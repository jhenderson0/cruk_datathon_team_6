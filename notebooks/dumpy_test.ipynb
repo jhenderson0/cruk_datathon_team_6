{
 "cells": [
  {
   "cell_type": "code",
   "execution_count": 1,
   "metadata": {},
   "outputs": [],
   "source": [
    "import os\n",
    "from pathlib import Path\n",
    "\n",
    "if \"PROJECT_ROOT\" not in globals():\n",
    "    PROJECT_ROOT = Path.cwd().parent.resolve()\n",
    "\n",
    "os.chdir(PROJECT_ROOT)"
   ]
  },
  {
   "cell_type": "code",
   "execution_count": 2,
   "metadata": {},
   "outputs": [],
   "source": [
    "from src import dumpy\n",
    "from matplotlib import pyplot as plt\n",
    "import numpy as np\n",
    "import pandas as pd\n",
    "from sklearn import metrics\n",
    "import torch\n",
    "from torch import Tensor"
   ]
  },
  {
   "cell_type": "markdown",
   "metadata": {},
   "source": [
    "## Load data"
   ]
  },
  {
   "cell_type": "code",
   "execution_count": 3,
   "metadata": {},
   "outputs": [],
   "source": [
    "test_data = pd.read_csv(\"ignore/translation_test.csv\", index_col=0, dtype=str)\n",
    "cancer_test_data = pd.read_csv(\"ignore/translation_cancer.csv\", index_col=0, dtype=str)\n",
    "alphabet = pd.read_csv(\"model_saves/alphabet.csv\", index_col=0)"
   ]
  },
  {
   "cell_type": "code",
   "execution_count": 19,
   "metadata": {},
   "outputs": [],
   "source": [
    "test_data = pd.concat([test_data, cancer_test_data], axis=0)"
   ]
  },
  {
   "cell_type": "code",
   "execution_count": 20,
   "metadata": {},
   "outputs": [
    {
     "data": {
      "text/html": [
       "<div>\n",
       "<style scoped>\n",
       "    .dataframe tbody tr th:only-of-type {\n",
       "        vertical-align: middle;\n",
       "    }\n",
       "\n",
       "    .dataframe tbody tr th {\n",
       "        vertical-align: top;\n",
       "    }\n",
       "\n",
       "    .dataframe thead th {\n",
       "        text-align: right;\n",
       "    }\n",
       "</style>\n",
       "<table border=\"1\" class=\"dataframe\">\n",
       "  <thead>\n",
       "    <tr style=\"text-align: right;\">\n",
       "      <th></th>\n",
       "      <th>Unnamed: 0</th>\n",
       "      <th>Studies</th>\n",
       "      <th>Assays</th>\n",
       "      <th>TCR species</th>\n",
       "      <th>CDR3A</th>\n",
       "      <th>CDR3B</th>\n",
       "      <th>TRAV</th>\n",
       "      <th>TRBV</th>\n",
       "      <th>epitope</th>\n",
       "      <th>MHCA</th>\n",
       "      <th>MHCB</th>\n",
       "      <th>MHC class</th>\n",
       "      <th>CDR3B_length</th>\n",
       "      <th>epitope_length</th>\n",
       "      <th>translation_CDR3B</th>\n",
       "      <th>translation_epitope</th>\n",
       "    </tr>\n",
       "  </thead>\n",
       "  <tbody>\n",
       "    <tr>\n",
       "      <th>0</th>\n",
       "      <td>164</td>\n",
       "      <td>PMID:28636589</td>\n",
       "      <td>tetramer-sort</td>\n",
       "      <td>HomoSapiens</td>\n",
       "      <td>NaN</td>\n",
       "      <td>QSRSSYNEQF</td>\n",
       "      <td>NaN</td>\n",
       "      <td>TRBV4-1*01</td>\n",
       "      <td>EHDTL</td>\n",
       "      <td>HLA-A*01:01</td>\n",
       "      <td>B2M</td>\n",
       "      <td>1.0</td>\n",
       "      <td>15</td>\n",
       "      <td>9</td>\n",
       "      <td>1111110110</td>\n",
       "      <td>11000</td>\n",
       "    </tr>\n",
       "    <tr>\n",
       "      <th>1</th>\n",
       "      <td>901</td>\n",
       "      <td>PMID:28636589</td>\n",
       "      <td>multimer/tetramer</td>\n",
       "      <td>HomoSapiens</td>\n",
       "      <td>NaN</td>\n",
       "      <td>LSGLGDNEQF</td>\n",
       "      <td>NaN</td>\n",
       "      <td>TRBV7-3</td>\n",
       "      <td>EHDTL</td>\n",
       "      <td>HLA-A*01:01</td>\n",
       "      <td>B2M</td>\n",
       "      <td>1.0</td>\n",
       "      <td>15</td>\n",
       "      <td>9</td>\n",
       "      <td>0110100110</td>\n",
       "      <td>11000</td>\n",
       "    </tr>\n",
       "    <tr>\n",
       "      <th>2</th>\n",
       "      <td>1001</td>\n",
       "      <td>PMID:32793919</td>\n",
       "      <td>High throughput multiplexed assay</td>\n",
       "      <td>HomoSapiens</td>\n",
       "      <td>NaN</td>\n",
       "      <td>STGDYADGYT</td>\n",
       "      <td>NaN</td>\n",
       "      <td>TRBV4-2</td>\n",
       "      <td>DGVPF</td>\n",
       "      <td>NaN</td>\n",
       "      <td>B2M</td>\n",
       "      <td>1.0</td>\n",
       "      <td>15</td>\n",
       "      <td>9</td>\n",
       "      <td>1010100110</td>\n",
       "      <td>01000</td>\n",
       "    </tr>\n",
       "    <tr>\n",
       "      <th>3</th>\n",
       "      <td>1684</td>\n",
       "      <td>PMID:32793919</td>\n",
       "      <td>High throughput multiplexed assay</td>\n",
       "      <td>HomoSapiens</td>\n",
       "      <td>NaN</td>\n",
       "      <td>HPGISGNTIY</td>\n",
       "      <td>NaN</td>\n",
       "      <td>TRBV11-3</td>\n",
       "      <td>DGVPF</td>\n",
       "      <td>NaN</td>\n",
       "      <td>B2M</td>\n",
       "      <td>1.0</td>\n",
       "      <td>15</td>\n",
       "      <td>9</td>\n",
       "      <td>1010110001</td>\n",
       "      <td>01000</td>\n",
       "    </tr>\n",
       "    <tr>\n",
       "      <th>4</th>\n",
       "      <td>1763</td>\n",
       "      <td>PMID:34811538</td>\n",
       "      <td>tetramer-sort</td>\n",
       "      <td>HomoSapiens</td>\n",
       "      <td>CILRDSAGGTSYGKLTF</td>\n",
       "      <td>HGRGFQETQY</td>\n",
       "      <td>TRAV26-2*01</td>\n",
       "      <td>TRBV4-3*01</td>\n",
       "      <td>RGRAY</td>\n",
       "      <td>HLA-B*08:01</td>\n",
       "      <td>B2M</td>\n",
       "      <td>1.0</td>\n",
       "      <td>15</td>\n",
       "      <td>9</td>\n",
       "      <td>1111011011</td>\n",
       "      <td>11101</td>\n",
       "    </tr>\n",
       "  </tbody>\n",
       "</table>\n",
       "</div>"
      ],
      "text/plain": [
       "  Unnamed: 0        Studies                             Assays  TCR species  \\\n",
       "0        164  PMID:28636589                      tetramer-sort  HomoSapiens   \n",
       "1        901  PMID:28636589                  multimer/tetramer  HomoSapiens   \n",
       "2       1001  PMID:32793919  High throughput multiplexed assay  HomoSapiens   \n",
       "3       1684  PMID:32793919  High throughput multiplexed assay  HomoSapiens   \n",
       "4       1763  PMID:34811538                      tetramer-sort  HomoSapiens   \n",
       "\n",
       "               CDR3A       CDR3B         TRAV        TRBV epitope  \\\n",
       "0                NaN  QSRSSYNEQF          NaN  TRBV4-1*01   EHDTL   \n",
       "1                NaN  LSGLGDNEQF          NaN     TRBV7-3   EHDTL   \n",
       "2                NaN  STGDYADGYT          NaN     TRBV4-2   DGVPF   \n",
       "3                NaN  HPGISGNTIY          NaN    TRBV11-3   DGVPF   \n",
       "4  CILRDSAGGTSYGKLTF  HGRGFQETQY  TRAV26-2*01  TRBV4-3*01   RGRAY   \n",
       "\n",
       "          MHCA MHCB MHC class CDR3B_length epitope_length translation_CDR3B  \\\n",
       "0  HLA-A*01:01  B2M       1.0           15              9        1111110110   \n",
       "1  HLA-A*01:01  B2M       1.0           15              9        0110100110   \n",
       "2          NaN  B2M       1.0           15              9        1010100110   \n",
       "3          NaN  B2M       1.0           15              9        1010110001   \n",
       "4  HLA-B*08:01  B2M       1.0           15              9        1111011011   \n",
       "\n",
       "  translation_epitope  \n",
       "0               11000  \n",
       "1               11000  \n",
       "2               01000  \n",
       "3               01000  \n",
       "4               11101  "
      ]
     },
     "execution_count": 20,
     "metadata": {},
     "output_type": "execute_result"
    }
   ],
   "source": [
    "test_data.head()"
   ]
  },
  {
   "cell_type": "code",
   "execution_count": 21,
   "metadata": {},
   "outputs": [
    {
     "data": {
      "text/html": [
       "<div>\n",
       "<style scoped>\n",
       "    .dataframe tbody tr th:only-of-type {\n",
       "        vertical-align: middle;\n",
       "    }\n",
       "\n",
       "    .dataframe tbody tr th {\n",
       "        vertical-align: top;\n",
       "    }\n",
       "\n",
       "    .dataframe thead th {\n",
       "        text-align: right;\n",
       "    }\n",
       "</style>\n",
       "<table border=\"1\" class=\"dataframe\">\n",
       "  <thead>\n",
       "    <tr style=\"text-align: right;\">\n",
       "      <th></th>\n",
       "      <th>A</th>\n",
       "      <th>C</th>\n",
       "      <th>D</th>\n",
       "      <th>E</th>\n",
       "      <th>F</th>\n",
       "      <th>G</th>\n",
       "      <th>H</th>\n",
       "      <th>I</th>\n",
       "      <th>K</th>\n",
       "      <th>L</th>\n",
       "      <th>M</th>\n",
       "      <th>N</th>\n",
       "      <th>P</th>\n",
       "      <th>Q</th>\n",
       "      <th>R</th>\n",
       "      <th>S</th>\n",
       "      <th>T</th>\n",
       "      <th>V</th>\n",
       "      <th>W</th>\n",
       "      <th>Y</th>\n",
       "    </tr>\n",
       "  </thead>\n",
       "  <tbody>\n",
       "    <tr>\n",
       "      <th>Letter</th>\n",
       "      <td>0</td>\n",
       "      <td>1</td>\n",
       "      <td>0</td>\n",
       "      <td>1</td>\n",
       "      <td>0</td>\n",
       "      <td>1</td>\n",
       "      <td>1</td>\n",
       "      <td>0</td>\n",
       "      <td>1</td>\n",
       "      <td>0</td>\n",
       "      <td>0</td>\n",
       "      <td>0</td>\n",
       "      <td>0</td>\n",
       "      <td>1</td>\n",
       "      <td>1</td>\n",
       "      <td>1</td>\n",
       "      <td>0</td>\n",
       "      <td>0</td>\n",
       "      <td>0</td>\n",
       "      <td>1</td>\n",
       "    </tr>\n",
       "  </tbody>\n",
       "</table>\n",
       "</div>"
      ],
      "text/plain": [
       "        A  C  D  E  F  G  H  I  K  L  M  N  P  Q  R  S  T  V  W  Y\n",
       "Letter  0  1  0  1  0  1  1  0  1  0  0  0  0  1  1  1  0  0  0  1"
      ]
     },
     "execution_count": 21,
     "metadata": {},
     "output_type": "execute_result"
    }
   ],
   "source": [
    "alphabet"
   ]
  },
  {
   "cell_type": "code",
   "execution_count": 22,
   "metadata": {},
   "outputs": [],
   "source": [
    "epitope_priors = dumpy.compute_epitope_priors_from_alphabet(alphabet)"
   ]
  },
  {
   "cell_type": "code",
   "execution_count": 23,
   "metadata": {},
   "outputs": [],
   "source": [
    "# Turn translated sequences into torch tensors\n",
    "def map_zero_one_string_to_tensor(zero_one_string: str) -> Tensor:\n",
    "    return torch.tensor([float(char) for char in zero_one_string])\n",
    "\n",
    "tcr_tensor_test = torch.stack(test_data[\"translation_CDR3B\"].map(map_zero_one_string_to_tensor).tolist())\n",
    "epitope_tensor_test = torch.stack(test_data[\"translation_epitope\"].map(map_zero_one_string_to_tensor).tolist())"
   ]
  },
  {
   "cell_type": "markdown",
   "metadata": {},
   "source": [
    "## Load model save"
   ]
  },
  {
   "cell_type": "code",
   "execution_count": 24,
   "metadata": {},
   "outputs": [
    {
     "data": {
      "text/plain": [
       "<All keys matched successfully>"
      ]
     },
     "execution_count": 24,
     "metadata": {},
     "output_type": "execute_result"
    }
   ],
   "source": [
    "dp = dumpy.Dumpy(5, 10)\n",
    "dp.load_state_dict(torch.load(\"model_saves/dumpy_of_choice.pth\", weights_only=True))"
   ]
  },
  {
   "cell_type": "code",
   "execution_count": 25,
   "metadata": {},
   "outputs": [],
   "source": [
    "dp_joint = dumpy.DumpyJoint(dp, epitope_priors)"
   ]
  },
  {
   "cell_type": "markdown",
   "metadata": {},
   "source": [
    "## AUCs"
   ]
  },
  {
   "cell_type": "code",
   "execution_count": 30,
   "metadata": {},
   "outputs": [
    {
     "data": {
      "image/png": "[encoded data removed]",
      "text/plain": [
       "<Figure size 500x500 with 1 Axes>"
      ]
     },
     "metadata": {},
     "output_type": "display_data"
    }
   ],
   "source": [
    "plt.figure(figsize=(5,5))\n",
    "plt.xlabel(\"False Positive Rate\")\n",
    "plt.ylabel(\"True Positive Rate\")\n",
    "plt.xlim(0,1)\n",
    "plt.ylim(0,1)\n",
    "plt.plot([0,1], [0,1], linestyle=\"--\", c=\"black\")\n",
    "\n",
    "aucs = []\n",
    "\n",
    "unique_epitopes_test = test_data[\"translation_epitope\"].unique()\n",
    "all_epitopes_test = epitope_tensor_test.unique(dim=0)\n",
    "\n",
    "for epitope in unique_epitopes_test:\n",
    "    if epitope == \"01011\":\n",
    "        continue\n",
    "\n",
    "    positive_indices = (test_data[\"translation_epitope\"] == epitope).to_numpy()\n",
    "    negative_indices = ~positive_indices\n",
    "\n",
    "    positive_tcrs = tcr_tensor_test[positive_indices]\n",
    "    negative_tcrs = tcr_tensor_test[negative_indices]\n",
    "    target_epitope = epitope_tensor_test[positive_indices][:1]\n",
    "\n",
    "    p_target_ep_positives = dp_joint.joint(positive_tcrs, target_epitope).squeeze()\n",
    "    p_all_eps_positives = dp_joint.joint(positive_tcrs, all_epitopes_test).sum(dim=1)\n",
    "    p_target_ep_positives_normalized = p_target_ep_positives / p_all_eps_positives # Relative prob of target epitope out of all possible\n",
    "\n",
    "    p_target_ep_negatives = dp_joint.joint(negative_tcrs, target_epitope).squeeze()\n",
    "    p_all_eps_negatives = dp_joint.joint(negative_tcrs, all_epitopes_test).sum(dim=1)\n",
    "    p_target_ep_negatives_normalized = p_target_ep_negatives / p_all_eps_negatives # Same as above, but for negative TCRs\n",
    "\n",
    "    all_positive_probs = torch.concatenate((p_target_ep_positives_normalized, p_target_ep_negatives_normalized))\n",
    "    all_labels = torch.concatenate((torch.ones_like(p_target_ep_positives_normalized), torch.zeros_like(p_target_ep_negatives_normalized)))\n",
    "\n",
    "    fprs, tprs, _ = metrics.roc_curve(all_labels, all_positive_probs)\n",
    "    auc = metrics.roc_auc_score(all_labels, all_positive_probs)\n",
    "    aucs.append(auc)\n",
    "\n",
    "    plt.step(fprs, tprs, c=\"C0\", alpha=0.3)\n",
    "\n",
    "plt.show()"
   ]
  },
  {
   "cell_type": "code",
   "execution_count": 31,
   "metadata": {},
   "outputs": [
    {
     "data": {
      "image/png": "[encoded data removed]",
      "text/plain": [
       "<Figure size 500x500 with 1 Axes>"
      ]
     },
     "metadata": {},
     "output_type": "display_data"
    }
   ],
   "source": [
    "average_auc = np.mean(aucs)\n",
    "\n",
    "plt.figure(figsize=(5,5))\n",
    "plt.hist(aucs)\n",
    "plt.axvline(average_auc, c=\"black\", linestyle=\"--\", label=f\"Average AUC: {average_auc:.2f}\")\n",
    "plt.xlabel(\"AUC\")\n",
    "plt.ylabel(\"Frequency (number of epitopes)\")\n",
    "plt.legend()\n",
    "plt.show()"
   ]
  },
  {
   "cell_type": "code",
   "execution_count": null,
   "metadata": {},
   "outputs": [],
   "source": []
  }
 ],
 "metadata": {
  "kernelspec": {
   "display_name": ".venv",
   "language": "python",
   "name": "python3"
  },
  "language_info": {
   "codemirror_mode": {
    "name": "ipython",
    "version": 3
   },
   "file_extension": ".py",
   "mimetype": "text/x-python",
   "name": "python",
   "nbconvert_exporter": "python",
   "pygments_lexer": "ipython3",
   "version": "3.11.11"
  }
 },
 "nbformat": 4,
 "nbformat_minor": 2
}
