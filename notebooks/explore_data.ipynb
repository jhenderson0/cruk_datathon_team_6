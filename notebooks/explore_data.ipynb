{
 "cells": [
  {
   "cell_type": "markdown",
   "metadata": {},
   "source": [
    "# Look at data"
   ]
  },
  {
   "cell_type": "code",
   "execution_count": 1,
   "metadata": {},
   "outputs": [
    {
     "name": "stderr",
     "output_type": "stream",
     "text": [
      "/opt/anaconda3/envs/cruk_datathon/lib/python3.12/site-packages/logomaker/../tqdm/auto.py:21: TqdmWarning: IProgress not found. Please update jupyter and ipywidgets. See https://ipywidgets.readthedocs.io/en/stable/user_install.html\n",
      "  from .autonotebook import tqdm as notebook_tqdm\n"
     ]
    }
   ],
   "source": [
    "import numpy as np\n",
    "import pandas as pd\n",
    "import sys\n",
    "import os\n",
    "import seaborn as sns\n",
    "import matplotlib.pyplot as plt\n",
    "import pyrepseq as prs\n",
    "import tidytcells as tt\n"
   ]
  },
  {
   "cell_type": "code",
   "execution_count": 2,
   "metadata": {},
   "outputs": [],
   "source": [
    "#move to correct directory\n",
    "os.chdir('/Users/isabellasodi/Documents/UCL/PhD/CRUK_datathon_2025')"
   ]
  },
  {
   "cell_type": "code",
   "execution_count": 3,
   "metadata": {},
   "outputs": [],
   "source": [
    "# load data\n",
    "#tcr_data = pd.read_csv('input/tcrictionary_tabular.csv' )\n",
    "tcr_data_raw = pd.read_csv('/Volumes/ritd-ag-project-rd0017-bmcha43/CRUK_datathon_2025/raw_data/tcrictionary_tabular.csv' )\n"
   ]
  },
  {
   "cell_type": "markdown",
   "metadata": {},
   "source": [
    "## Pre-process"
   ]
  },
  {
   "cell_type": "code",
   "execution_count": 4,
   "metadata": {},
   "outputs": [],
   "source": [
    "# expand out so that each study is a row\n",
    "tcr_data_expanded = tcr_data_raw.assign(Studies=tcr_data_raw['Studies'].str.split(',')).explode('Studies')\n",
    "tcr_data_expanded = tcr_data_expanded.reset_index(drop=True)\n",
    "tcr_data_expanded['Studies'] = tcr_data_expanded['Studies'].str.strip()"
   ]
  },
  {
   "cell_type": "code",
   "execution_count": 5,
   "metadata": {},
   "outputs": [
    {
     "name": "stdout",
     "output_type": "stream",
     "text": [
      "2729\n"
     ]
    }
   ],
   "source": [
    "# pre-process\n",
    "\n",
    "# only human\n",
    "tcr_data = tcr_data_expanded[ tcr_data_expanded['TCR species'] == 'HomoSapiens'].copy()\n",
    "\n",
    "# only with epitopes\n",
    "tcr_data = tcr_data[ ~tcr_data['epitope'].isna()].copy()\n",
    "print(tcr_data['epitope'].nunique())\n",
    "\n",
    "# remove anything after a + for some epitopes with PTM info\n",
    "tcr_data['epitope_full'] = tcr_data['epitope']\n",
    "tcr_data['epitope'] = tcr_data['epitope_full'].str.split('+').str[0].str.strip()\n",
    "\n",
    "\n",
    "# remove *,  and X (based on amino acids) in alpha chain \n",
    "# use tidy t cells, go through and remove cells with not allowed\n",
    "tcr_data['CDR3A'] = tcr_data['CDR3A'].apply(lambda x: tt.aa.standardize(x, log_failures=False) if pd.notna(x) else x)\n",
    "tcr_data['CDR3B'] = tcr_data['CDR3B'].apply(lambda x: tt.aa.standardize(x, log_failures=False) if pd.notna(x) else x)\n"
   ]
  },
  {
   "cell_type": "code",
   "execution_count": 6,
   "metadata": {},
   "outputs": [
    {
     "data": {
      "text/html": [
       "<div>\n",
       "<style scoped>\n",
       "    .dataframe tbody tr th:only-of-type {\n",
       "        vertical-align: middle;\n",
       "    }\n",
       "\n",
       "    .dataframe tbody tr th {\n",
       "        vertical-align: top;\n",
       "    }\n",
       "\n",
       "    .dataframe thead th {\n",
       "        text-align: right;\n",
       "    }\n",
       "</style>\n",
       "<table border=\"1\" class=\"dataframe\">\n",
       "  <thead>\n",
       "    <tr style=\"text-align: right;\">\n",
       "      <th></th>\n",
       "      <th>Studies</th>\n",
       "      <th>Assays</th>\n",
       "      <th>TCR species</th>\n",
       "      <th>CDR3A</th>\n",
       "      <th>CDR3B</th>\n",
       "      <th>TRAV</th>\n",
       "      <th>TRBV</th>\n",
       "      <th>epitope</th>\n",
       "      <th>MHCA</th>\n",
       "      <th>MHCB</th>\n",
       "      <th>MHC class</th>\n",
       "      <th>epitope_full</th>\n",
       "    </tr>\n",
       "  </thead>\n",
       "  <tbody>\n",
       "    <tr>\n",
       "      <th>0</th>\n",
       "      <td>PMID:36134660</td>\n",
       "      <td>multimer/tetramer</td>\n",
       "      <td>HomoSapiens</td>\n",
       "      <td>NaN</td>\n",
       "      <td>CASTTGRDNEQFF</td>\n",
       "      <td>NaN</td>\n",
       "      <td>TRBV2</td>\n",
       "      <td>GILGFVFTL</td>\n",
       "      <td>HLA-A*02:01</td>\n",
       "      <td>B2M</td>\n",
       "      <td>1.0</td>\n",
       "      <td>GILGFVFTL</td>\n",
       "    </tr>\n",
       "    <tr>\n",
       "      <th>1</th>\n",
       "      <td>PMID:34793243</td>\n",
       "      <td>multimer/tetramer</td>\n",
       "      <td>HomoSapiens</td>\n",
       "      <td>CAASAIGGKLIF</td>\n",
       "      <td>CASSFGDSYNEQFF</td>\n",
       "      <td>TRAV29/DV5</td>\n",
       "      <td>TRBV5-4</td>\n",
       "      <td>LLDDFVEII</td>\n",
       "      <td>HLA-A*02:01</td>\n",
       "      <td>B2M</td>\n",
       "      <td>1.0</td>\n",
       "      <td>LLDDFVEII</td>\n",
       "    </tr>\n",
       "    <tr>\n",
       "      <th>2</th>\n",
       "      <td>10xGenomics</td>\n",
       "      <td>multimer/tetramer</td>\n",
       "      <td>HomoSapiens</td>\n",
       "      <td>CAMREGVNDYKLSF</td>\n",
       "      <td>CASSLSGTGIQPQHF</td>\n",
       "      <td>NaN</td>\n",
       "      <td>NaN</td>\n",
       "      <td>AVFDRKSDAK</td>\n",
       "      <td>HLA-A*11:01</td>\n",
       "      <td>B2M</td>\n",
       "      <td>1.0</td>\n",
       "      <td>AVFDRKSDAK</td>\n",
       "    </tr>\n",
       "    <tr>\n",
       "      <th>3</th>\n",
       "      <td>PMID:32793919</td>\n",
       "      <td>High throughput multiplexed assay</td>\n",
       "      <td>HomoSapiens</td>\n",
       "      <td>NaN</td>\n",
       "      <td>CASSAYEQYF</td>\n",
       "      <td>NaN</td>\n",
       "      <td>TRBV6-5</td>\n",
       "      <td>APKEIIFLEGETL</td>\n",
       "      <td>NaN</td>\n",
       "      <td>B2M</td>\n",
       "      <td>1.0</td>\n",
       "      <td>APKEIIFLEGETL</td>\n",
       "    </tr>\n",
       "    <tr>\n",
       "      <th>4</th>\n",
       "      <td>PMID:32184241</td>\n",
       "      <td>multimer/tetramer</td>\n",
       "      <td>HomoSapiens</td>\n",
       "      <td>NaN</td>\n",
       "      <td>CASSSPGAAETQYF</td>\n",
       "      <td>NaN</td>\n",
       "      <td>TRBV6-1</td>\n",
       "      <td>YVLDHLIVV</td>\n",
       "      <td>HLA-A*02:01</td>\n",
       "      <td>B2M</td>\n",
       "      <td>1.0</td>\n",
       "      <td>YVLDHLIVV</td>\n",
       "    </tr>\n",
       "    <tr>\n",
       "      <th>...</th>\n",
       "      <td>...</td>\n",
       "      <td>...</td>\n",
       "      <td>...</td>\n",
       "      <td>...</td>\n",
       "      <td>...</td>\n",
       "      <td>...</td>\n",
       "      <td>...</td>\n",
       "      <td>...</td>\n",
       "      <td>...</td>\n",
       "      <td>...</td>\n",
       "      <td>...</td>\n",
       "      <td>...</td>\n",
       "    </tr>\n",
       "    <tr>\n",
       "      <th>310971</th>\n",
       "      <td>PMID:32793919</td>\n",
       "      <td>High throughput multiplexed assay</td>\n",
       "      <td>HomoSapiens</td>\n",
       "      <td>NaN</td>\n",
       "      <td>CASSLAKGGGYTF</td>\n",
       "      <td>NaN</td>\n",
       "      <td>TRBV27</td>\n",
       "      <td>QLMCQPILLL</td>\n",
       "      <td>NaN</td>\n",
       "      <td>B2M</td>\n",
       "      <td>1.0</td>\n",
       "      <td>QLMCQPILLL</td>\n",
       "    </tr>\n",
       "    <tr>\n",
       "      <th>310972</th>\n",
       "      <td>PMID:32793919</td>\n",
       "      <td>High throughput multiplexed assay</td>\n",
       "      <td>HomoSapiens</td>\n",
       "      <td>NaN</td>\n",
       "      <td>CASSLLSVQETQYF</td>\n",
       "      <td>NaN</td>\n",
       "      <td>TRBV28</td>\n",
       "      <td>APHGVVFLHVTYV</td>\n",
       "      <td>NaN</td>\n",
       "      <td>B2M</td>\n",
       "      <td>1.0</td>\n",
       "      <td>APHGVVFLHVTYV</td>\n",
       "    </tr>\n",
       "    <tr>\n",
       "      <th>310973</th>\n",
       "      <td>PMID:28423320</td>\n",
       "      <td>multimer/tetramer</td>\n",
       "      <td>HomoSapiens</td>\n",
       "      <td>NaN</td>\n",
       "      <td>CSVDKGGPEAFF</td>\n",
       "      <td>NaN</td>\n",
       "      <td>TRBV29-1</td>\n",
       "      <td>NLVPMVATV</td>\n",
       "      <td>HLA-A*02:01</td>\n",
       "      <td>B2M</td>\n",
       "      <td>1.0</td>\n",
       "      <td>NLVPMVATV</td>\n",
       "    </tr>\n",
       "    <tr>\n",
       "      <th>310974</th>\n",
       "      <td>PMID:32793919</td>\n",
       "      <td>High throughput multiplexed assay</td>\n",
       "      <td>HomoSapiens</td>\n",
       "      <td>NaN</td>\n",
       "      <td>CASSSSGGGISPLHF</td>\n",
       "      <td>NaN</td>\n",
       "      <td>TRBV7-8</td>\n",
       "      <td>LITLATCELYHYQECV</td>\n",
       "      <td>NaN</td>\n",
       "      <td>B2M</td>\n",
       "      <td>1.0</td>\n",
       "      <td>LITLATCELYHYQECV</td>\n",
       "    </tr>\n",
       "    <tr>\n",
       "      <th>310975</th>\n",
       "      <td>PMID:30451992</td>\n",
       "      <td>multimer/tetramer</td>\n",
       "      <td>HomoSapiens</td>\n",
       "      <td>CVLNNNDMRF</td>\n",
       "      <td>CASSILGASNQPQHF</td>\n",
       "      <td>TRAV12-1*01</td>\n",
       "      <td>TRBV19*01</td>\n",
       "      <td>CFVECAPVC</td>\n",
       "      <td>HLA-A*02:01</td>\n",
       "      <td>B2M</td>\n",
       "      <td>1.0</td>\n",
       "      <td>CFVECAPVC</td>\n",
       "    </tr>\n",
       "  </tbody>\n",
       "</table>\n",
       "<p>278118 rows × 12 columns</p>\n",
       "</div>"
      ],
      "text/plain": [
       "              Studies                             Assays  TCR species  \\\n",
       "0       PMID:36134660                  multimer/tetramer  HomoSapiens   \n",
       "1       PMID:34793243                  multimer/tetramer  HomoSapiens   \n",
       "2         10xGenomics                  multimer/tetramer  HomoSapiens   \n",
       "3       PMID:32793919  High throughput multiplexed assay  HomoSapiens   \n",
       "4       PMID:32184241                  multimer/tetramer  HomoSapiens   \n",
       "...               ...                                ...          ...   \n",
       "310971  PMID:32793919  High throughput multiplexed assay  HomoSapiens   \n",
       "310972  PMID:32793919  High throughput multiplexed assay  HomoSapiens   \n",
       "310973  PMID:28423320                  multimer/tetramer  HomoSapiens   \n",
       "310974  PMID:32793919  High throughput multiplexed assay  HomoSapiens   \n",
       "310975  PMID:30451992                  multimer/tetramer  HomoSapiens   \n",
       "\n",
       "                 CDR3A            CDR3B         TRAV       TRBV  \\\n",
       "0                  NaN    CASTTGRDNEQFF          NaN      TRBV2   \n",
       "1         CAASAIGGKLIF   CASSFGDSYNEQFF   TRAV29/DV5    TRBV5-4   \n",
       "2       CAMREGVNDYKLSF  CASSLSGTGIQPQHF          NaN        NaN   \n",
       "3                  NaN       CASSAYEQYF          NaN    TRBV6-5   \n",
       "4                  NaN   CASSSPGAAETQYF          NaN    TRBV6-1   \n",
       "...                ...              ...          ...        ...   \n",
       "310971             NaN    CASSLAKGGGYTF          NaN     TRBV27   \n",
       "310972             NaN   CASSLLSVQETQYF          NaN     TRBV28   \n",
       "310973             NaN     CSVDKGGPEAFF          NaN   TRBV29-1   \n",
       "310974             NaN  CASSSSGGGISPLHF          NaN    TRBV7-8   \n",
       "310975      CVLNNNDMRF  CASSILGASNQPQHF  TRAV12-1*01  TRBV19*01   \n",
       "\n",
       "                 epitope         MHCA MHCB  MHC class      epitope_full  \n",
       "0              GILGFVFTL  HLA-A*02:01  B2M        1.0         GILGFVFTL  \n",
       "1              LLDDFVEII  HLA-A*02:01  B2M        1.0         LLDDFVEII  \n",
       "2             AVFDRKSDAK  HLA-A*11:01  B2M        1.0        AVFDRKSDAK  \n",
       "3          APKEIIFLEGETL          NaN  B2M        1.0     APKEIIFLEGETL  \n",
       "4              YVLDHLIVV  HLA-A*02:01  B2M        1.0         YVLDHLIVV  \n",
       "...                  ...          ...  ...        ...               ...  \n",
       "310971        QLMCQPILLL          NaN  B2M        1.0        QLMCQPILLL  \n",
       "310972     APHGVVFLHVTYV          NaN  B2M        1.0     APHGVVFLHVTYV  \n",
       "310973         NLVPMVATV  HLA-A*02:01  B2M        1.0         NLVPMVATV  \n",
       "310974  LITLATCELYHYQECV          NaN  B2M        1.0  LITLATCELYHYQECV  \n",
       "310975         CFVECAPVC  HLA-A*02:01  B2M        1.0         CFVECAPVC  \n",
       "\n",
       "[278118 rows x 12 columns]"
      ]
     },
     "execution_count": 6,
     "metadata": {},
     "output_type": "execute_result"
    }
   ],
   "source": [
    "# remove any class 2\n",
    "tcr_data = tcr_data[tcr_data['MHC class'] != 2].copy()\n",
    "tcr_data"
   ]
  },
  {
   "cell_type": "code",
   "execution_count": 7,
   "metadata": {},
   "outputs": [
    {
     "name": "stdout",
     "output_type": "stream",
     "text": [
      "262\n"
     ]
    },
    {
     "data": {
      "text/html": [
       "<div>\n",
       "<style scoped>\n",
       "    .dataframe tbody tr th:only-of-type {\n",
       "        vertical-align: middle;\n",
       "    }\n",
       "\n",
       "    .dataframe tbody tr th {\n",
       "        vertical-align: top;\n",
       "    }\n",
       "\n",
       "    .dataframe thead th {\n",
       "        text-align: right;\n",
       "    }\n",
       "</style>\n",
       "<table border=\"1\" class=\"dataframe\">\n",
       "  <thead>\n",
       "    <tr style=\"text-align: right;\">\n",
       "      <th></th>\n",
       "      <th>Studies</th>\n",
       "      <th>Assays</th>\n",
       "      <th>TCR species</th>\n",
       "      <th>CDR3A</th>\n",
       "      <th>CDR3B</th>\n",
       "      <th>TRAV</th>\n",
       "      <th>TRBV</th>\n",
       "      <th>epitope</th>\n",
       "      <th>MHCA</th>\n",
       "      <th>MHCB</th>\n",
       "      <th>MHC class</th>\n",
       "      <th>epitope_full</th>\n",
       "    </tr>\n",
       "  </thead>\n",
       "  <tbody>\n",
       "    <tr>\n",
       "      <th>57</th>\n",
       "      <td>PMID:34006597</td>\n",
       "      <td>3H-thymidine</td>\n",
       "      <td>HomoSapiens</td>\n",
       "      <td>NaN</td>\n",
       "      <td>CASSRHPPSLAGVMYEQYF</td>\n",
       "      <td>NaN</td>\n",
       "      <td>TRBV6-5*01</td>\n",
       "      <td>RFASVYAWNRKRISNCVADY</td>\n",
       "      <td>NaN</td>\n",
       "      <td>NaN</td>\n",
       "      <td>NaN</td>\n",
       "      <td>RFASVYAWNRKRISNCVADY</td>\n",
       "    </tr>\n",
       "    <tr>\n",
       "      <th>87</th>\n",
       "      <td>PMID:30737354</td>\n",
       "      <td>multimer/tetramer</td>\n",
       "      <td>HomoSapiens</td>\n",
       "      <td>NaN</td>\n",
       "      <td>CASSTGESDTQYF</td>\n",
       "      <td>NaN</td>\n",
       "      <td>TRBV6-4</td>\n",
       "      <td>RTQSPRRR</td>\n",
       "      <td>NaN</td>\n",
       "      <td>NaN</td>\n",
       "      <td>NaN</td>\n",
       "      <td>RTQSPRRR</td>\n",
       "    </tr>\n",
       "    <tr>\n",
       "      <th>147</th>\n",
       "      <td>PMID:22942431</td>\n",
       "      <td>3H-thymidine</td>\n",
       "      <td>HomoSapiens</td>\n",
       "      <td>CAASRSTGGFKTIF</td>\n",
       "      <td>CSAKYVNTEAFF</td>\n",
       "      <td>TRAV13-1*02</td>\n",
       "      <td>TRBV20-1</td>\n",
       "      <td>VDSITEVECFLTPEA</td>\n",
       "      <td>NaN</td>\n",
       "      <td>NaN</td>\n",
       "      <td>NaN</td>\n",
       "      <td>VDSITEVECFLTPEA</td>\n",
       "    </tr>\n",
       "    <tr>\n",
       "      <th>150</th>\n",
       "      <td>PMID:31501610</td>\n",
       "      <td>3H-thymidine</td>\n",
       "      <td>HomoSapiens</td>\n",
       "      <td>NaN</td>\n",
       "      <td>CASGFTDTQYF</td>\n",
       "      <td>NaN</td>\n",
       "      <td>TRBV2</td>\n",
       "      <td>GKAPRLLIHYTSALQPGI</td>\n",
       "      <td>NaN</td>\n",
       "      <td>NaN</td>\n",
       "      <td>NaN</td>\n",
       "      <td>GKAPRLLIHYTSALQPGI</td>\n",
       "    </tr>\n",
       "    <tr>\n",
       "      <th>162</th>\n",
       "      <td>PMID:34061349</td>\n",
       "      <td>ELISA</td>\n",
       "      <td>HomoSapiens</td>\n",
       "      <td>NaN</td>\n",
       "      <td>CASSTRGHNTGELFF</td>\n",
       "      <td>NaN</td>\n",
       "      <td>TRBV5-1</td>\n",
       "      <td>NCTFEYVSQPFLMDL</td>\n",
       "      <td>NaN</td>\n",
       "      <td>NaN</td>\n",
       "      <td>NaN</td>\n",
       "      <td>NCTFEYVSQPFLMDL</td>\n",
       "    </tr>\n",
       "    <tr>\n",
       "      <th>...</th>\n",
       "      <td>...</td>\n",
       "      <td>...</td>\n",
       "      <td>...</td>\n",
       "      <td>...</td>\n",
       "      <td>...</td>\n",
       "      <td>...</td>\n",
       "      <td>...</td>\n",
       "      <td>...</td>\n",
       "      <td>...</td>\n",
       "      <td>...</td>\n",
       "      <td>...</td>\n",
       "      <td>...</td>\n",
       "    </tr>\n",
       "    <tr>\n",
       "      <th>310516</th>\n",
       "      <td>PMID:21199956</td>\n",
       "      <td>3H-thymidine</td>\n",
       "      <td>HomoSapiens</td>\n",
       "      <td>CAASSFGNEKLTF</td>\n",
       "      <td>CATSALGDTQYF</td>\n",
       "      <td>TRAV13-1*01</td>\n",
       "      <td>TRBV7-3*01</td>\n",
       "      <td>ENPVVHGFKNIVTPR</td>\n",
       "      <td>NaN</td>\n",
       "      <td>NaN</td>\n",
       "      <td>NaN</td>\n",
       "      <td>ENPVVHGFKNIVTPR</td>\n",
       "    </tr>\n",
       "    <tr>\n",
       "      <th>310614</th>\n",
       "      <td>PMID:21849672</td>\n",
       "      <td>multimer/tetramer</td>\n",
       "      <td>HomoSapiens</td>\n",
       "      <td>NaN</td>\n",
       "      <td>CASSLATRATYEQYF</td>\n",
       "      <td>NaN</td>\n",
       "      <td>TRBV7-2*01</td>\n",
       "      <td>PQPQLPYPQPQ</td>\n",
       "      <td>NaN</td>\n",
       "      <td>NaN</td>\n",
       "      <td>NaN</td>\n",
       "      <td>PQPQLPYPQPQ + DEAM(Q4, Q11)</td>\n",
       "    </tr>\n",
       "    <tr>\n",
       "      <th>310667</th>\n",
       "      <td>PMID:30737354</td>\n",
       "      <td>multimer/tetramer</td>\n",
       "      <td>HomoSapiens</td>\n",
       "      <td>NaN</td>\n",
       "      <td>CASSQAGTGSGNTIYF</td>\n",
       "      <td>NaN</td>\n",
       "      <td>TRBV4-1*01</td>\n",
       "      <td>RTQSPRRR</td>\n",
       "      <td>NaN</td>\n",
       "      <td>NaN</td>\n",
       "      <td>NaN</td>\n",
       "      <td>RTQSPRRR</td>\n",
       "    </tr>\n",
       "    <tr>\n",
       "      <th>310865</th>\n",
       "      <td>PMID:21849672</td>\n",
       "      <td>multimer/tetramer</td>\n",
       "      <td>HomoSapiens</td>\n",
       "      <td>NaN</td>\n",
       "      <td>CASSLGGLLYEQYF</td>\n",
       "      <td>NaN</td>\n",
       "      <td>TRBV7-2*02</td>\n",
       "      <td>QLQPFPQPQLPY</td>\n",
       "      <td>NaN</td>\n",
       "      <td>NaN</td>\n",
       "      <td>NaN</td>\n",
       "      <td>QLQPFPQPQLPY + DEAM(Q9)</td>\n",
       "    </tr>\n",
       "    <tr>\n",
       "      <th>310958</th>\n",
       "      <td>PMID:30737354</td>\n",
       "      <td>multimer/tetramer</td>\n",
       "      <td>HomoSapiens</td>\n",
       "      <td>NaN</td>\n",
       "      <td>CASRSGQGYEQYF</td>\n",
       "      <td>NaN</td>\n",
       "      <td>TRBV28*01</td>\n",
       "      <td>RTQSPRRR</td>\n",
       "      <td>NaN</td>\n",
       "      <td>NaN</td>\n",
       "      <td>NaN</td>\n",
       "      <td>RTQSPRRR</td>\n",
       "    </tr>\n",
       "  </tbody>\n",
       "</table>\n",
       "<p>2005 rows × 12 columns</p>\n",
       "</div>"
      ],
      "text/plain": [
       "              Studies             Assays  TCR species           CDR3A  \\\n",
       "57      PMID:34006597       3H-thymidine  HomoSapiens             NaN   \n",
       "87      PMID:30737354  multimer/tetramer  HomoSapiens             NaN   \n",
       "147     PMID:22942431       3H-thymidine  HomoSapiens  CAASRSTGGFKTIF   \n",
       "150     PMID:31501610       3H-thymidine  HomoSapiens             NaN   \n",
       "162     PMID:34061349              ELISA  HomoSapiens             NaN   \n",
       "...               ...                ...          ...             ...   \n",
       "310516  PMID:21199956       3H-thymidine  HomoSapiens   CAASSFGNEKLTF   \n",
       "310614  PMID:21849672  multimer/tetramer  HomoSapiens             NaN   \n",
       "310667  PMID:30737354  multimer/tetramer  HomoSapiens             NaN   \n",
       "310865  PMID:21849672  multimer/tetramer  HomoSapiens             NaN   \n",
       "310958  PMID:30737354  multimer/tetramer  HomoSapiens             NaN   \n",
       "\n",
       "                      CDR3B         TRAV        TRBV               epitope  \\\n",
       "57      CASSRHPPSLAGVMYEQYF          NaN  TRBV6-5*01  RFASVYAWNRKRISNCVADY   \n",
       "87            CASSTGESDTQYF          NaN     TRBV6-4              RTQSPRRR   \n",
       "147            CSAKYVNTEAFF  TRAV13-1*02    TRBV20-1       VDSITEVECFLTPEA   \n",
       "150             CASGFTDTQYF          NaN       TRBV2    GKAPRLLIHYTSALQPGI   \n",
       "162         CASSTRGHNTGELFF          NaN     TRBV5-1       NCTFEYVSQPFLMDL   \n",
       "...                     ...          ...         ...                   ...   \n",
       "310516         CATSALGDTQYF  TRAV13-1*01  TRBV7-3*01       ENPVVHGFKNIVTPR   \n",
       "310614      CASSLATRATYEQYF          NaN  TRBV7-2*01           PQPQLPYPQPQ   \n",
       "310667     CASSQAGTGSGNTIYF          NaN  TRBV4-1*01              RTQSPRRR   \n",
       "310865       CASSLGGLLYEQYF          NaN  TRBV7-2*02          QLQPFPQPQLPY   \n",
       "310958        CASRSGQGYEQYF          NaN   TRBV28*01              RTQSPRRR   \n",
       "\n",
       "       MHCA MHCB  MHC class                 epitope_full  \n",
       "57      NaN  NaN        NaN         RFASVYAWNRKRISNCVADY  \n",
       "87      NaN  NaN        NaN                     RTQSPRRR  \n",
       "147     NaN  NaN        NaN              VDSITEVECFLTPEA  \n",
       "150     NaN  NaN        NaN           GKAPRLLIHYTSALQPGI  \n",
       "162     NaN  NaN        NaN              NCTFEYVSQPFLMDL  \n",
       "...     ...  ...        ...                          ...  \n",
       "310516  NaN  NaN        NaN              ENPVVHGFKNIVTPR  \n",
       "310614  NaN  NaN        NaN  PQPQLPYPQPQ + DEAM(Q4, Q11)  \n",
       "310667  NaN  NaN        NaN                     RTQSPRRR  \n",
       "310865  NaN  NaN        NaN      QLQPFPQPQLPY + DEAM(Q9)  \n",
       "310958  NaN  NaN        NaN                     RTQSPRRR  \n",
       "\n",
       "[2005 rows x 12 columns]"
      ]
     },
     "execution_count": 7,
     "metadata": {},
     "output_type": "execute_result"
    }
   ],
   "source": [
    "# check how many will be lost from no MHC data\n",
    "missing_mhc = tcr_data[tcr_data['MHC class'].isna()]\n",
    "print( missing_mhc['epitope'].nunique() )\n",
    "missing_mhc"
   ]
  },
  {
   "cell_type": "code",
   "execution_count": 8,
   "metadata": {},
   "outputs": [
    {
     "name": "stdout",
     "output_type": "stream",
     "text": [
      "2108\n"
     ]
    }
   ],
   "source": [
    "# only class 1\n",
    "tcr_data = tcr_data[tcr_data['MHC class'] == 1]\n",
    "tcr_data\n",
    "\n",
    "print(tcr_data['epitope'].nunique())"
   ]
  },
  {
   "cell_type": "markdown",
   "metadata": {},
   "source": [
    "## Check lengths of CDR3A/B/epitope"
   ]
  },
  {
   "cell_type": "code",
   "execution_count": 18,
   "metadata": {},
   "outputs": [
    {
     "name": "stderr",
     "output_type": "stream",
     "text": [
      "/var/folders/z4/vmbnstn56s95frrrpfw8xlt00000gn/T/ipykernel_57161/381828953.py:1: SettingWithCopyWarning: \n",
      "A value is trying to be set on a copy of a slice from a DataFrame.\n",
      "Try using .loc[row_indexer,col_indexer] = value instead\n",
      "\n",
      "See the caveats in the documentation: https://pandas.pydata.org/pandas-docs/stable/user_guide/indexing.html#returning-a-view-versus-a-copy\n",
      "  tcr_data['CDR3A_length'] = tcr_data['CDR3A'].str.len().astype('Int64')\n",
      "/var/folders/z4/vmbnstn56s95frrrpfw8xlt00000gn/T/ipykernel_57161/381828953.py:2: SettingWithCopyWarning: \n",
      "A value is trying to be set on a copy of a slice from a DataFrame.\n",
      "Try using .loc[row_indexer,col_indexer] = value instead\n",
      "\n",
      "See the caveats in the documentation: https://pandas.pydata.org/pandas-docs/stable/user_guide/indexing.html#returning-a-view-versus-a-copy\n",
      "  tcr_data['CDR3B_length'] = tcr_data['CDR3B'].str.len().astype('Int64')\n",
      "/var/folders/z4/vmbnstn56s95frrrpfw8xlt00000gn/T/ipykernel_57161/381828953.py:3: SettingWithCopyWarning: \n",
      "A value is trying to be set on a copy of a slice from a DataFrame.\n",
      "Try using .loc[row_indexer,col_indexer] = value instead\n",
      "\n",
      "See the caveats in the documentation: https://pandas.pydata.org/pandas-docs/stable/user_guide/indexing.html#returning-a-view-versus-a-copy\n",
      "  tcr_data['epitope_length'] = tcr_data['epitope'].str.len().astype('Int64')\n"
     ]
    }
   ],
   "source": [
    "tcr_data['CDR3A_length'] = tcr_data['CDR3A'].str.len().astype('Int64')\n",
    "tcr_data['CDR3B_length'] = tcr_data['CDR3B'].str.len().astype('Int64')\n",
    "tcr_data['epitope_length'] = tcr_data['epitope'].str.len().astype('Int64')"
   ]
  },
  {
   "cell_type": "code",
   "execution_count": 19,
   "metadata": {},
   "outputs": [
    {
     "data": {
      "image/png": "[encoded data removed]",
      "text/plain": [
       "<Figure size 1500x500 with 3 Axes>"
      ]
     },
     "metadata": {},
     "output_type": "display_data"
    }
   ],
   "source": [
    "# frequency plot\n",
    "\n",
    "# Set up the figure with subplots\n",
    "fig, (ax1, ax2, ax3) = plt.subplots(1, 3, figsize=(15, 5))\n",
    "\n",
    "# Plot histograms\n",
    "sns.histplot(data=tcr_data, x='CDR3A_length', ax=ax1, bins=20, color='skyblue')\n",
    "ax1.set_title('CDR3A Length Distribution')\n",
    "ax1.set_xlabel('Length')\n",
    "ax1.set_ylabel('Count')\n",
    "\n",
    "sns.histplot(data=tcr_data, x='CDR3B_length', ax=ax2, bins=20, color='lightgreen')\n",
    "ax2.set_title('CDR3B Length Distribution')\n",
    "ax2.set_xlabel('Length')\n",
    "ax2.set_ylabel('Count')\n",
    "\n",
    "sns.histplot(data=tcr_data, x='epitope_length', ax=ax3, bins=20, color='salmon')\n",
    "ax3.set_title('Epitope Length Distribution')\n",
    "ax3.set_xlabel('Length')\n",
    "ax3.set_ylabel('Count')\n",
    "\n",
    "# Adjust layout\n",
    "plt.tight_layout()\n",
    "\n",
    "# Show the plot\n",
    "plt.show()"
   ]
  },
  {
   "cell_type": "code",
   "execution_count": 20,
   "metadata": {},
   "outputs": [
    {
     "data": {
      "image/png": "[encoded data removed]",
      "text/plain": [
       "<Figure size 1500x500 with 3 Axes>"
      ]
     },
     "metadata": {},
     "output_type": "display_data"
    }
   ],
   "source": [
    "# propotion plot\n",
    "\n",
    "# Set up the figure with subplots\n",
    "fig, (ax1, ax2, ax3) = plt.subplots(1, 3, figsize=(15, 5))\n",
    "\n",
    "# Plot histograms with proportions\n",
    "sns.histplot(data=tcr_data, x='CDR3B_length', ax=ax1, bins=20, color='skyblue', stat=\"proportion\")\n",
    "ax1.set_title('CDR3A Length Distribution')\n",
    "ax1.set_xlabel('Length')\n",
    "ax1.set_ylabel('Proportion')\n",
    "\n",
    "sns.histplot(data=tcr_data, x='CDR3B_length', ax=ax2, bins=20, color='lightgreen', stat=\"proportion\")\n",
    "ax2.set_title('CDR3B Length Distribution')\n",
    "ax2.set_xlabel('Length')\n",
    "ax2.set_ylabel('Proportion')\n",
    "\n",
    "sns.histplot(data=tcr_data, x='epitope_length', ax=ax3, bins=20, color='salmon', stat=\"proportion\")\n",
    "ax3.set_title('Epitope Length Distribution')\n",
    "ax3.set_xlabel('Length')\n",
    "ax3.set_ylabel('Proportion')\n",
    "\n",
    "# Adjust layout\n",
    "plt.tight_layout()\n",
    "\n",
    "# Show the plot\n",
    "plt.show()"
   ]
  },
  {
   "cell_type": "markdown",
   "metadata": {},
   "source": [
    "## Check unique values"
   ]
  },
  {
   "cell_type": "code",
   "execution_count": 21,
   "metadata": {},
   "outputs": [
    {
     "name": "stdout",
     "output_type": "stream",
     "text": [
      "CDR3A 48181\n",
      "CDR3B 156671\n",
      "epitope 2108\n"
     ]
    }
   ],
   "source": [
    "print( 'CDR3A',tcr_data['CDR3A'].nunique())\n",
    "print( 'CDR3B',tcr_data['CDR3B'].nunique())\n",
    "print( 'epitope',tcr_data['epitope'].nunique())"
   ]
  },
  {
   "cell_type": "code",
   "execution_count": 22,
   "metadata": {},
   "outputs": [
    {
     "name": "stdout",
     "output_type": "stream",
     "text": [
      "CDR3A - unique sequences: 48181\n",
      "Total sequences: 276113 Unique sequences: 48181\n",
      "\n",
      "CDR3B - unique sequences: 156671\n",
      "Total sequences: 276113 Unique sequences: 156671\n",
      "\n",
      "Epitopes - unique sequences: 2108\n",
      "Total sequences: 276113 Unique sequences: 2108\n"
     ]
    },
    {
     "data": {
      "image/png": "[encoded data removed]",
      "text/plain": [
       "<Figure size 1500x500 with 3 Axes>"
      ]
     },
     "metadata": {},
     "output_type": "display_data"
    }
   ],
   "source": [
    "# Get unique sequences and their lengths\n",
    "unique_cdr3a = tcr_data[['CDR3A', 'CDR3A_length']].dropna().drop_duplicates()\n",
    "unique_cdr3b = tcr_data[['CDR3B', 'CDR3B_length']].dropna().drop_duplicates()\n",
    "unique_epitopes = tcr_data[['epitope', 'epitope_length']].dropna().drop_duplicates()\n",
    "\n",
    "# Print statistics\n",
    "print(\"CDR3A - unique sequences:\", tcr_data['CDR3A'].nunique())\n",
    "print(\"Total sequences:\", len(tcr_data), \"Unique sequences:\", len(unique_cdr3a))\n",
    "\n",
    "print(\"\\nCDR3B - unique sequences:\", tcr_data['CDR3B'].nunique())\n",
    "print(\"Total sequences:\", len(tcr_data), \"Unique sequences:\", len(unique_cdr3b))\n",
    "\n",
    "print(\"\\nEpitopes - unique sequences:\", tcr_data['epitope'].nunique())\n",
    "print(\"Total sequences:\", len(tcr_data), \"Unique sequences:\", len(unique_epitopes))\n",
    "\n",
    "# Create plot with three subplots\n",
    "fig, (ax1, ax2, ax3) = plt.subplots(1, 3, figsize=(15, 5))\n",
    "\n",
    "# Plot histograms for unique sequences\n",
    "sns.histplot(data=unique_cdr3a, x='CDR3A_length', ax=ax1, color='skyblue', stat=\"proportion\")\n",
    "ax1.set_title('CDR3A Unique Length Distribution')\n",
    "ax1.set_xlabel('Length')\n",
    "ax1.set_ylabel('Proportion')\n",
    "\n",
    "sns.histplot(data=unique_cdr3b, x='CDR3B_length', ax=ax2, color='lightgreen', stat=\"proportion\")\n",
    "ax2.set_title('CDR3B Unique Length Distribution')\n",
    "ax2.set_xlabel('Length')\n",
    "ax2.set_ylabel('Proportion')\n",
    "\n",
    "sns.histplot(data=unique_epitopes, x='epitope_length', ax=ax3, color='salmon', stat=\"proportion\")\n",
    "ax3.set_title('Unique Epitope Length Distribution')\n",
    "ax3.set_xlabel('Length')\n",
    "ax3.set_ylabel('Proportion')\n",
    "\n",
    "plt.tight_layout()\n",
    "plt.show()"
   ]
  },
  {
   "cell_type": "markdown",
   "metadata": {},
   "source": [
    "## Check Studies"
   ]
  },
  {
   "cell_type": "code",
   "execution_count": 23,
   "metadata": {},
   "outputs": [
    {
     "name": "stdout",
     "output_type": "stream",
     "text": [
      "Studies 393\n"
     ]
    }
   ],
   "source": [
    "print( 'Studies',tcr_data['Studies'].nunique())"
   ]
  },
  {
   "cell_type": "markdown",
   "metadata": {},
   "source": [
    "Potential studies for validation:\n",
    "\n",
    "- PMID:38039963\n",
    "    - Phenotypic signatures of circulating neoantigenreactive CD8+ T cells in patients with metastatic cancers\n",
    "    - has 14 epitopes and 45 TCRs\n",
    "\n",
    "- PMID:27959684\n",
    "    - T-Cell Transfer Therapy Targeting Mutant KRAS in Cancer\n",
    "    - has 1 epitope and 5 TCRs\n",
    "\n",
    "- PMID:32461371\n",
    "    - High-affinity oligoclonal TCRs define effective adoptive T cell therapy targeting mutant KRAS-G12D\n",
    "    - has 2 epitopes and 4 TCRs\n",
    "\n",
    "\n"
   ]
  },
  {
   "cell_type": "code",
   "execution_count": 24,
   "metadata": {},
   "outputs": [],
   "source": [
    "# alphabet_studies = ['PMID:38039963', 'PMID:27959684', 'PMID:32461371']\n",
    "# study_pattern = '|'.join(alphabet_studies)\n",
    "\n",
    "# tcr_data_alphabet_studies = tcr_data[tcr_data['Studies'].str.contains(study_pattern, na=False)]"
   ]
  },
  {
   "cell_type": "markdown",
   "metadata": {},
   "source": [
    "# Split"
   ]
  },
  {
   "cell_type": "code",
   "execution_count": 25,
   "metadata": {},
   "outputs": [
    {
     "name": "stdout",
     "output_type": "stream",
     "text": [
      "Training\n",
      "epitopes: 2094\n",
      "alpha: 48141\n",
      "beta: 156630 \n",
      "\n",
      "Cancer\n",
      "epitopes: 15\n",
      "alpha: 44\n",
      "beta: 47\n"
     ]
    }
   ],
   "source": [
    "# remove cancer studies\n",
    "cancer_studies = ['PMID:38039963', 'PMID:27959684', 'PMID:32461371']\n",
    "#study_pattern = '|'.join(cancer_studies)\n",
    "\n",
    "tcr_data_cancer = tcr_data[ tcr_data['Studies'].isin(cancer_studies)] # need to do str match for multiple studies\n",
    "#tcr_data_cancer = tcr_data[tcr_data['Studies'].str.contains(study_pattern, na=False)] # no need as now expanded\n",
    "\n",
    "tcr_data_train = tcr_data[ ~tcr_data['Studies'].isin(cancer_studies)]\n",
    "#tcr_data_train = tcr_data[~tcr_data['Studies'].str.contains(study_pattern, na=False)]\n",
    "\n",
    "print('Training')\n",
    "print('epitopes:', tcr_data_train['epitope'].nunique())\n",
    "print('alpha:', tcr_data_train['CDR3A'].nunique())\n",
    "print('beta:', tcr_data_train['CDR3B'].nunique(), '\\n')\n",
    "\n",
    "print('Cancer')\n",
    "print('epitopes:', tcr_data_cancer['epitope'].nunique())\n",
    "print('alpha:', tcr_data_cancer['CDR3A'].nunique())\n",
    "print('beta:', tcr_data_cancer['CDR3B'].nunique())\n"
   ]
  },
  {
   "cell_type": "code",
   "execution_count": 26,
   "metadata": {},
   "outputs": [
    {
     "name": "stdout",
     "output_type": "stream",
     "text": [
      "['VLVIASTDVDKTAASYYGEQTLHYI' 'SEQTFLIGL' 'RGSTDNLMDDIEMAVDDGVNTFKVL'\n",
      " 'NENLDLKEL' 'NENLDLQEL' 'INPVVHPHGHIFTVYTDVQQVASSL' 'GADGVGKSA'\n",
      " 'NLWPVTHGL' 'DLYHLIKKAVAVQKHLERNRKDKDA' 'GADGVGKSAL'\n",
      " 'ATDALKNRSSVEARMEFVRQALAYL' 'TRLRKQALQDTLVLYKMFSEADACE'\n",
      " 'YWNQGYGYQQGYEPGYGGYDYSPYG' 'TEFFPFYAL' 'RKAMEAVAAQGKTKK']\n",
      "15\n",
      "leaking epitopes: 4\n",
      "88041                   GADGVGKSAL\n",
      "88042                   GADGVGKSAL\n",
      "193912                  GADGVGKSAL\n",
      "253496    MTEYKLVVVGADGVGKSALTIQLI\n",
      "Name: epitope, dtype: object \n",
      "\n",
      "Training\n",
      "epitopes: 2092\n",
      "alpha: 48140\n",
      "beta: 156629 \n",
      "\n",
      "Cancer (w/ leaking)\n",
      "epitopes: 16\n",
      "alpha: 44\n",
      "beta: 47\n"
     ]
    }
   ],
   "source": [
    "# check if cancer epitopes are in train\n",
    "\n",
    "cancer_epitopes = tcr_data_cancer['epitope'].unique()\n",
    "print(cancer_epitopes)\n",
    "print( len(cancer_epitopes))\n",
    "\n",
    "epitope_pattern = '|'.join(cancer_epitopes)\n",
    "leaking_epitopes = tcr_data_train[tcr_data_train['epitope'].str.contains(epitope_pattern, na=False)]\n",
    "\n",
    "print('leaking epitopes:', len(leaking_epitopes))\n",
    "print( leaking_epitopes['epitope'], '\\n')\n",
    "\n",
    "# remove leaking epitopes in train\n",
    "tcr_data_train = tcr_data_train[~tcr_data_train['epitope'].str.contains(epitope_pattern, na=False)]\n",
    "tcr_data_train\n",
    "\n",
    "# add leaking epitopes to validate\n",
    "tcr_data_cancer = pd.concat([tcr_data_cancer, leaking_epitopes])\n",
    "\n",
    "print('Training')\n",
    "print('epitopes:', tcr_data_train['epitope'].nunique())\n",
    "print('alpha:', tcr_data_train['CDR3A'].nunique())\n",
    "print('beta:', tcr_data_train['CDR3B'].nunique(), '\\n')\n",
    "\n",
    "print('Cancer (w/ leaking)')\n",
    "print('epitopes:', tcr_data_cancer['epitope'].nunique())\n",
    "print('alpha:', tcr_data_cancer['CDR3A'].nunique())\n",
    "print('beta:', tcr_data_cancer['CDR3B'].nunique())"
   ]
  },
  {
   "cell_type": "code",
   "execution_count": 27,
   "metadata": {},
   "outputs": [
    {
     "name": "stdout",
     "output_type": "stream",
     "text": [
      "Unique epitopes in train/test: 2092 \n",
      "\n",
      "Unique epitopes in test: 209 \n",
      "\n",
      "Training\n",
      "epitopes: 1883\n",
      "alpha: 46421\n",
      "beta: 139785 \n",
      "\n",
      "Test\n",
      "epitopes: 209\n",
      "alpha: 2403\n",
      "beta: 18352\n"
     ]
    }
   ],
   "source": [
    "# remove additional 10% of epitopes\n",
    "all_epitopes = tcr_data_train[['epitope', 'epitope_length']].drop_duplicates()\n",
    "print('Unique epitopes in train/test:', tcr_data_train['epitope'].nunique(), '\\n')\n",
    "\n",
    "test_epitopes = all_epitopes.sample( round(len(all_epitopes)*0.1 ), random_state=27)\n",
    "print('Unique epitopes in test:', test_epitopes['epitope'].nunique(), '\\n')\n",
    "# validation_random_epitopes['epitope'].nunique() # not sure why has 193\n",
    "\n",
    "tcr_data_test = tcr_data_train[ tcr_data_train['epitope'].isin(test_epitopes['epitope'])]\n",
    "\n",
    "assert test_epitopes['epitope'].nunique() == 209\n",
    "\n",
    "tcr_data_train = tcr_data_train[ ~tcr_data_train['epitope'].isin(test_epitopes['epitope'])]\n",
    "\n",
    "print('Training')\n",
    "print('epitopes:', tcr_data_train['epitope'].nunique())\n",
    "print('alpha:', tcr_data_train['CDR3A'].nunique())\n",
    "print('beta:', tcr_data_train['CDR3B'].nunique(), '\\n')\n",
    "\n",
    "print('Test')\n",
    "print('epitopes:', tcr_data_test['epitope'].nunique())\n",
    "print('alpha:', tcr_data_test['CDR3A'].nunique())\n",
    "print('beta:', tcr_data_test['CDR3B'].nunique())\n"
   ]
  },
  {
   "cell_type": "code",
   "execution_count": 28,
   "metadata": {},
   "outputs": [
    {
     "name": "stdout",
     "output_type": "stream",
     "text": [
      "test epitopes: 209\n",
      "['YERMCNIL' 'FLWLLWPVTLACFVLAAV' 'LLWNGPMAV' 'FVCNLLLLFVTVYSHLLLV'\n",
      " 'ELAGIGILTV' 'LPDDFTGCVIAWNSNNLDSKVGGNYNYLYRLFRKSNLKPFERD' 'LLLDDFVEII'\n",
      " 'YTVELGTEV' 'FVDGVPFVV']\n",
      "leaking epitopes: <bound method IndexOpsMixin.nunique of 189        YEDFLEYHDVRVVL\n",
      "241          GYQPYRVVVLSF\n",
      "545        YEDFLEYHDVRVVL\n",
      "564       VLPPLLTDEMIAQYT\n",
      "820       VLPPLLTDEMIAQYT\n",
      "               ...       \n",
      "310303       GYQPYRVVVLSF\n",
      "310457      LITGRLQSLQTYV\n",
      "310514     YEDFLEYHDVRVVL\n",
      "310827     YEDFLEYHDVRVVL\n",
      "310935      LITGRLQSLQTYV\n",
      "Name: epitope, Length: 2330, dtype: object>\n",
      "<bound method Series.unique of 189        YEDFLEYHDVRVVL\n",
      "241          GYQPYRVVVLSF\n",
      "545        YEDFLEYHDVRVVL\n",
      "564       VLPPLLTDEMIAQYT\n",
      "820       VLPPLLTDEMIAQYT\n",
      "               ...       \n",
      "310303       GYQPYRVVVLSF\n",
      "310457      LITGRLQSLQTYV\n",
      "310514     YEDFLEYHDVRVVL\n",
      "310827     YEDFLEYHDVRVVL\n",
      "310935      LITGRLQSLQTYV\n",
      "Name: epitope, Length: 2330, dtype: object> \n",
      "\n",
      "Training\n",
      "epitopes: 1862\n",
      "alpha: 46390\n",
      "beta: 137641 \n",
      "\n",
      "Cancer (w/ leaking)\n",
      "epitopes: 230\n",
      "alpha: 2438\n",
      "beta: 20587\n"
     ]
    }
   ],
   "source": [
    "# check if test epitopes are in train (leaking)\n",
    "\n",
    "test_epitopes = tcr_data_test['epitope'].unique()\n",
    "print('test epitopes:', len(test_epitopes))\n",
    "print(test_epitopes[1:10])\n",
    "\n",
    "epitope_pattern = '|'.join(test_epitopes)\n",
    "leaking_epitopes = tcr_data_train[tcr_data_train['epitope'].str.contains(epitope_pattern, na=False)]\n",
    "\n",
    "print('leaking epitopes:', leaking_epitopes['epitope'].nunique)\n",
    "print( leaking_epitopes['epitope'].unique, '\\n')\n",
    "\n",
    "# remove leaking epitopes in train\n",
    "tcr_data_train = tcr_data_train[~tcr_data_train['epitope'].str.contains(epitope_pattern, na=False)]\n",
    "tcr_data_train\n",
    "\n",
    "# add leaking epitopes to validate\n",
    "tcr_data_test = pd.concat([tcr_data_test, leaking_epitopes])\n",
    "\n",
    "print('Training')\n",
    "print('epitopes:', tcr_data_train['epitope'].nunique())\n",
    "print('alpha:', tcr_data_train['CDR3A'].nunique())\n",
    "print('beta:', tcr_data_train['CDR3B'].nunique(), '\\n')\n",
    "\n",
    "print('Cancer (w/ leaking)')\n",
    "print('epitopes:', tcr_data_test['epitope'].nunique())\n",
    "print('alpha:', tcr_data_test['CDR3A'].nunique())\n",
    "print('beta:', tcr_data_test['CDR3B'].nunique())"
   ]
  },
  {
   "cell_type": "code",
   "execution_count": 30,
   "metadata": {},
   "outputs": [
    {
     "name": "stdout",
     "output_type": "stream",
     "text": [
      "Training\n",
      "epitopes: 1862\n",
      "alpha: 46390\n",
      "beta: 137641 \n",
      "\n",
      "Test\n",
      "epitopes: 230\n",
      "alpha: 2438\n",
      "beta: 20587 \n",
      "\n",
      "Cancer Test\n",
      "epitopes: 16\n",
      "alpha: 44\n",
      "beta: 47\n"
     ]
    }
   ],
   "source": [
    "print('Training')\n",
    "print('epitopes:', tcr_data_train['epitope'].nunique())\n",
    "print('alpha:', tcr_data_train['CDR3A'].nunique())\n",
    "print('beta:', tcr_data_train['CDR3B'].nunique(), '\\n')\n",
    "\n",
    "print('Test')\n",
    "print('epitopes:', tcr_data_test['epitope'].nunique())\n",
    "print('alpha:', tcr_data_test['CDR3A'].nunique())\n",
    "print('beta:', tcr_data_test['CDR3B'].nunique(), '\\n')\n",
    "\n",
    "print('Cancer Test')\n",
    "print('epitopes:', tcr_data_cancer['epitope'].nunique())\n",
    "print('alpha:', tcr_data_cancer['CDR3A'].nunique())\n",
    "print('beta:', tcr_data_cancer['CDR3B'].nunique())"
   ]
  },
  {
   "cell_type": "markdown",
   "metadata": {},
   "source": [
    "# Check lengths for potential filtering"
   ]
  },
  {
   "cell_type": "code",
   "execution_count": 41,
   "metadata": {},
   "outputs": [
    {
     "name": "stdout",
     "output_type": "stream",
     "text": [
      "13 15 9\n"
     ]
    }
   ],
   "source": [
    "mode_CDR3A = tcr_data['CDR3A_length'].value_counts().index[0]\n",
    "mode_CDR3B = tcr_data['CDR3B_length'].value_counts().index[0]\n",
    "mode_epitope = tcr_data['epitope_length'].value_counts().index[0]\n",
    "\n",
    "print( mode_CDR3A, mode_CDR3B, mode_epitope)"
   ]
  },
  {
   "cell_type": "code",
   "execution_count": 43,
   "metadata": {},
   "outputs": [],
   "source": [
    "filter_a = tcr_data[tcr_data['CDR3A_length'] == mode_CDR3A]\n",
    "filter_b = filter_a[filter_a['CDR3B_length'] == mode_CDR3B]\n",
    "filter_epitope = filter_b[filter_b['epitope_length'] == mode_epitope]\n",
    "\n"
   ]
  },
  {
   "cell_type": "code",
   "execution_count": 45,
   "metadata": {},
   "outputs": [
    {
     "data": {
      "text/plain": [
       "178"
      ]
     },
     "execution_count": 45,
     "metadata": {},
     "output_type": "execute_result"
    }
   ],
   "source": [
    "filter_epitope['epitope'].nunique()"
   ]
  },
  {
   "cell_type": "code",
   "execution_count": 47,
   "metadata": {},
   "outputs": [
    {
     "data": {
      "text/plain": [
       "epitope\n",
       "KLGGALQAK    1408\n",
       "GILGFVFTL      89\n",
       "IVTDFSVIK      88\n",
       "GLCTLVAML      67\n",
       "SPRWYFYYL      45\n",
       "RLRAEAQVK      43\n",
       "VMATRRNVL      40\n",
       "NLVPMVATV      36\n",
       "LLWNGPMAV      34\n",
       "NQKLIANQF      21\n",
       "YLQPRTFLL      18\n",
       "YVLDHLIVV      15\n",
       "KTFPPTEPK      13\n",
       "CINGVCWTV      12\n",
       "CTELKLSDY      10\n",
       "VMTTVLATL      10\n",
       "LTDEMIAQY       9\n",
       "ATDALMTGF       9\n",
       "QYIKWPWYI       8\n",
       "RPRGEVRFL       7\n",
       "Name: count, dtype: int64"
      ]
     },
     "execution_count": 47,
     "metadata": {},
     "output_type": "execute_result"
    }
   ],
   "source": [
    "filter_epitope['epitope'].value_counts().head(20)"
   ]
  },
  {
   "cell_type": "markdown",
   "metadata": {},
   "source": [
    "## Filter just on CDR3B"
   ]
  },
  {
   "cell_type": "code",
   "execution_count": 54,
   "metadata": {},
   "outputs": [],
   "source": [
    "filter_b = tcr_data[tcr_data['CDR3B_length'] == mode_CDR3B]\n",
    "filter_epitope = filter_b[filter_b['epitope_length'] == mode_epitope]"
   ]
  },
  {
   "cell_type": "code",
   "execution_count": 55,
   "metadata": {},
   "outputs": [
    {
     "data": {
      "text/plain": [
       "757"
      ]
     },
     "execution_count": 55,
     "metadata": {},
     "output_type": "execute_result"
    }
   ],
   "source": [
    "filter_epitope['epitope'].nunique()"
   ]
  },
  {
   "cell_type": "code",
   "execution_count": 59,
   "metadata": {},
   "outputs": [
    {
     "data": {
      "text/plain": [
       "18205"
      ]
     },
     "execution_count": 59,
     "metadata": {},
     "output_type": "execute_result"
    }
   ],
   "source": [
    "filter_epitope['CDR3B'].nunique()"
   ]
  },
  {
   "cell_type": "code",
   "execution_count": 56,
   "metadata": {},
   "outputs": [
    {
     "data": {
      "text/plain": [
       "epitope\n",
       "KLGGALQAK    7855\n",
       "YVLDHLIVV    4530\n",
       "GLCTLVAML    2828\n",
       "GILGFVFTL    2440\n",
       "NLVPMVATV    2434\n",
       "FLNGSCGSV     770\n",
       "LLWNGPMAV     632\n",
       "FVDGVPFVV     588\n",
       "IVTDFSVIK     586\n",
       "KLSYGIATV     533\n",
       "VMATRRNVL     385\n",
       "SPRWYFYYL     355\n",
       "LLLDRLNQL     323\n",
       "MPASWVMRI     249\n",
       "FLPRVFSAV     231\n",
       "KAYNVTQAF     230\n",
       "RQLLFVVEV     225\n",
       "RLRAEAQVK     223\n",
       "FPPTSFGPL     194\n",
       "ATDALMTGY     180\n",
       "Name: count, dtype: int64"
      ]
     },
     "execution_count": 56,
     "metadata": {},
     "output_type": "execute_result"
    }
   ],
   "source": [
    "filter_epitope['epitope'].value_counts().head(20)"
   ]
  },
  {
   "cell_type": "markdown",
   "metadata": {},
   "source": [
    "# Filtering"
   ]
  },
  {
   "cell_type": "code",
   "execution_count": 31,
   "metadata": {},
   "outputs": [
    {
     "name": "stdout",
     "output_type": "stream",
     "text": [
      "epitopes: 1862\n",
      "alpha: 46390\n",
      "beta: 137641\n"
     ]
    }
   ],
   "source": [
    "print('epitopes:', tcr_data_train['epitope'].nunique())\n",
    "print('alpha:', tcr_data_train['CDR3A'].nunique())\n",
    "print('beta:', tcr_data_train['CDR3B'].nunique())\n",
    "\n",
    "tcr_data_train_unfiltered = tcr_data_train.copy()"
   ]
  },
  {
   "cell_type": "code",
   "execution_count": 32,
   "metadata": {},
   "outputs": [
    {
     "name": "stdout",
     "output_type": "stream",
     "text": [
      "pre length filter: 1862\n",
      "post length filter: 1782\n",
      "removed: 80\n"
     ]
    }
   ],
   "source": [
    "# Matt found paper supporting epitopes between 8-13 (PMID:26783342 )\n",
    "num_pre_filter = tcr_data_train['epitope'].nunique()\n",
    "print('pre length filter:', num_pre_filter)\n",
    "\n",
    "# filter any epitopes 13 or longer\n",
    "tcr_data_train = tcr_data_train[ tcr_data_train['epitope_length'] < 14 ].copy()\n",
    "\n",
    "# filter any less than 8\n",
    "tcr_data_train = tcr_data_train[ tcr_data_train['epitope_length'] > 7 ]\n",
    "\n",
    "num_post_filter = tcr_data_train['epitope'].nunique()\n",
    "print('post length filter:', num_post_filter)\n",
    "print('removed:', num_pre_filter - num_post_filter)\n"
   ]
  },
  {
   "cell_type": "code",
   "execution_count": 33,
   "metadata": {},
   "outputs": [
    {
     "name": "stdout",
     "output_type": "stream",
     "text": [
      "epitopes: 1782\n",
      "alpha: 46383\n",
      "beta: 108982\n"
     ]
    }
   ],
   "source": [
    "print('epitopes:', tcr_data_train['epitope'].nunique())\n",
    "print('alpha:', tcr_data_train['CDR3A'].nunique())\n",
    "print('beta:', tcr_data_train['CDR3B'].nunique())"
   ]
  },
  {
   "cell_type": "code",
   "execution_count": 22,
   "metadata": {},
   "outputs": [
    {
     "name": "stdout",
     "output_type": "stream",
     "text": [
      "mean:  13.504730150672604\n",
      "std:  2.1012247457928215\n",
      "LB:  9\n",
      "UB:  18\n"
     ]
    },
    {
     "name": "stdout",
     "output_type": "stream",
     "text": [
      "pre length filter: 46414\n",
      "post length filter: 45257\n",
      "removed: 1157\n"
     ]
    }
   ],
   "source": [
    "# filter CDR3A\n",
    "mean = tcr_data_train['CDR3A_length'].mean()\n",
    "std = tcr_data_train['CDR3A_length'].std()\n",
    "lower_bound = round(mean - 2*std)\n",
    "upper_bound = round(mean + 2*std)\n",
    "print('mean: ', mean)\n",
    "print('std: ', std)\n",
    "print('LB: ', lower_bound)\n",
    "print('UB: ', upper_bound)\n",
    "\n",
    "num_pre_filter = tcr_data_train['CDR3A'].nunique()\n",
    "print('pre length filter:', num_pre_filter)\n",
    "\n",
    "# filter\n",
    "tcr_data_train = tcr_data_train[\n",
    "    (tcr_data_train['CDR3A_length'].isna()) |  # ignore NA values\n",
    "    (tcr_data_train['CDR3A_length'] >= lower_bound) & \n",
    "    (tcr_data_train['CDR3A_length'] <= upper_bound)\n",
    "]\n",
    "\n",
    "num_post_filter = tcr_data_train['CDR3A'].nunique()\n",
    "print('post length filter:', num_post_filter)\n",
    "print('removed:', num_pre_filter - num_post_filter)"
   ]
  },
  {
   "cell_type": "code",
   "execution_count": 23,
   "metadata": {},
   "outputs": [
    {
     "name": "stdout",
     "output_type": "stream",
     "text": [
      "epitopes: 1773\n",
      "alpha: 45257\n",
      "beta: 109101\n"
     ]
    }
   ],
   "source": [
    "print('epitopes:', tcr_data_train['epitope'].nunique())\n",
    "print('alpha:', tcr_data_train['CDR3A'].nunique())\n",
    "print('beta:', tcr_data_train['CDR3B'].nunique())"
   ]
  },
  {
   "cell_type": "code",
   "execution_count": 24,
   "metadata": {},
   "outputs": [
    {
     "name": "stdout",
     "output_type": "stream",
     "text": [
      "mean:  14.442906635246118\n",
      "std:  1.931772916523878\n",
      "LB:  11\n",
      "UB:  18\n",
      "pre length filter: 109101\n",
      "post length filter: 104843\n",
      "removed: 4258\n"
     ]
    }
   ],
   "source": [
    "# filter CDR3B\n",
    "mean = tcr_data_train['CDR3B_length'].mean()\n",
    "std = tcr_data_train['CDR3B_length'].std()\n",
    "lower_bound = round(mean - 2*std)\n",
    "upper_bound = round(mean + 2*std)\n",
    "print('mean: ', mean)\n",
    "print('std: ', std)\n",
    "print('LB: ', lower_bound)\n",
    "print('UB: ', upper_bound)\n",
    "\n",
    "num_pre_filter = tcr_data_train['CDR3B'].nunique()\n",
    "print('pre length filter:', num_pre_filter)\n",
    "\n",
    "# filter\n",
    "tcr_data_train = tcr_data_train[\n",
    "    (tcr_data_train['CDR3B_length'].isna()) |  # ignore NA values\n",
    "    (tcr_data_train['CDR3B_length'] >= lower_bound) & \n",
    "    (tcr_data_train['CDR3B_length'] <= upper_bound)\n",
    "]\n",
    "\n",
    "num_post_filter = tcr_data_train['CDR3B'].nunique()\n",
    "print('post length filter:', num_post_filter)\n",
    "print('removed:', num_pre_filter - num_post_filter)"
   ]
  },
  {
   "cell_type": "code",
   "execution_count": 25,
   "metadata": {},
   "outputs": [
    {
     "name": "stdout",
     "output_type": "stream",
     "text": [
      "epitopes: 1735\n",
      "alpha: 44588\n",
      "beta: 104843\n"
     ]
    }
   ],
   "source": [
    "print('epitopes:', tcr_data_train['epitope'].nunique())\n",
    "print('alpha:', tcr_data_train['CDR3A'].nunique())\n",
    "print('beta:', tcr_data_train['CDR3B'].nunique())"
   ]
  },
  {
   "cell_type": "code",
   "execution_count": 26,
   "metadata": {},
   "outputs": [
    {
     "name": "stdout",
     "output_type": "stream",
     "text": [
      "epitopes: 1334\n",
      "alpha: 23087\n",
      "beta: 24899\n"
     ]
    }
   ],
   "source": [
    "paired_data = tcr_data_train[['CDR3A', 'CDR3B', 'epitope']].dropna()\n",
    "#paired_data\n",
    "\n",
    "# check how many paired we have\n",
    "print('epitopes:', paired_data['epitope'].nunique())\n",
    "print('alpha:', paired_data['CDR3A'].nunique())\n",
    "print('beta:', paired_data['CDR3B'].nunique())"
   ]
  },
  {
   "cell_type": "markdown",
   "metadata": {},
   "source": [
    "# Chunk amino acids"
   ]
  },
  {
   "cell_type": "code",
   "execution_count": 27,
   "metadata": {},
   "outputs": [],
   "source": [
    "# select 5 amino acids for CDR3 and epitope\n",
    "\n",
    "def get_middle_five_left(aa_string):\n",
    "    if pd.isna(aa_string):  # Check for NaN/null values\n",
    "        return aa_string\n",
    "    length = len(aa_string)\n",
    "    \n",
    "    if( length % 2 == 0 ):\n",
    "            mid = length // 2 # integer division will ensure that doesnt matter if even or odd - it is floor so always rounds down\n",
    "            start = mid - 3\n",
    "            end = mid + 2\n",
    "    else:\n",
    "            mid = length // 2\n",
    "            start = mid - 2\n",
    "            end = mid + 3\n",
    "\n",
    "    return aa_string[start:end]\n",
    "\n",
    "tcr_data_train['CDR3A_middle_left'] = tcr_data_train['CDR3A'].apply(get_middle_five_left)\n",
    "tcr_data_train['CDR3B_middle_left'] = tcr_data_train['CDR3B'].apply(get_middle_five_left)\n",
    "tcr_data_train['epitope_middle_left'] = tcr_data_train['epitope'].apply(get_middle_five_left)"
   ]
  },
  {
   "cell_type": "code",
   "execution_count": 28,
   "metadata": {},
   "outputs": [],
   "source": [
    "def get_middle_five_right(aa_string):\n",
    "    if pd.isna(aa_string):  # Check for NaN/null values\n",
    "        return aa_string\n",
    "    length = len(aa_string)\n",
    "    \n",
    "    if( length % 2 == 0 ):\n",
    "            mid = length // 2 # integer division will ensure that doesnt matter if even or odd - it is floor so always rounds down\n",
    "            start = mid - 2\n",
    "            end = mid + 3\n",
    "    else:\n",
    "            mid = length // 2\n",
    "            start = mid - 2\n",
    "            end = mid + 3\n",
    "\n",
    "    return aa_string[start:end]\n",
    "\n",
    "tcr_data_train['CDR3A_middle_right'] = tcr_data_train['CDR3A'].apply(get_middle_five_right)\n",
    "tcr_data_train['CDR3B_middle_right'] = tcr_data_train['CDR3B'].apply(get_middle_five_right)\n",
    "tcr_data_train['epitope_middle_right'] = tcr_data_train['epitope'].apply(get_middle_five_right)"
   ]
  },
  {
   "cell_type": "code",
   "execution_count": 29,
   "metadata": {},
   "outputs": [
    {
     "name": "stdout",
     "output_type": "stream",
     "text": [
      "CDR3A left 18664\n",
      "CDR3A right 14700\n",
      "CDR3B left 64976\n",
      "CDR3B right 61618\n",
      "epitope left 1543\n",
      "epitope right 1547\n"
     ]
    }
   ],
   "source": [
    "split_types = ['left', 'right']\n",
    "regions_to_test = ['CDR3A', 'CDR3B', 'epitope']\n",
    "splits_to_make = []\n",
    "for region in regions_to_test:\n",
    "    best_score = -np.inf\n",
    "    best_split_type = ''\n",
    "    for split in split_types:\n",
    "        richness = len(tcr_data_train[f'{region}_middle_{split}'].dropna(inplace=False).unique())\n",
    "        print(region, split, richness)\n",
    "        if richness > best_score:\n",
    "            best_score = richness\n",
    "            best_split_type = split\n",
    "        splits_to_make.append(best_split_type)"
   ]
  },
  {
   "cell_type": "code",
   "execution_count": 30,
   "metadata": {},
   "outputs": [],
   "source": [
    "tcr_data_train['CDR3A_middle'] = tcr_data_train['CDR3A_middle_left']\n",
    "tcr_data_train['CDR3B_middle'] = tcr_data_train['CDR3B_middle_left']\n",
    "tcr_data_train['epitope_middle'] = tcr_data_train['epitope_middle_right']"
   ]
  },
  {
   "cell_type": "markdown",
   "metadata": {},
   "source": [
    "# Save"
   ]
  },
  {
   "cell_type": "code",
   "execution_count": 35,
   "metadata": {},
   "outputs": [],
   "source": [
    "tcr_data_save = tcr_data_train[['CDR3A_middle', 'CDR3B_middle', 'epitope_middle', 'Assays']]\n",
    "tcr_data_save = tcr_data_save.rename( columns = {'CDR3A_middle':'CDR3A', 'CDR3B_middle':'CDR3B', 'epitope_middle':'epitope'} )\n",
    "tcr_data_save.to_csv('/Volumes/ritd-ag-project-rd0017-bmcha43/CRUK_datathon_2025/processed_data/train.csv')"
   ]
  },
  {
   "cell_type": "code",
   "execution_count": null,
   "metadata": {},
   "outputs": [],
   "source": [
    "# make important columns the left most"
   ]
  }
 ],
 "metadata": {
  "kernelspec": {
   "display_name": "cruk_datathon",
   "language": "python",
   "name": "python3"
  },
  "language_info": {
   "codemirror_mode": {
    "name": "ipython",
    "version": 3
   },
   "file_extension": ".py",
   "mimetype": "text/x-python",
   "name": "python",
   "nbconvert_exporter": "python",
   "pygments_lexer": "ipython3",
   "version": "3.12.8"
  }
 },
 "nbformat": 4,
 "nbformat_minor": 2
}
