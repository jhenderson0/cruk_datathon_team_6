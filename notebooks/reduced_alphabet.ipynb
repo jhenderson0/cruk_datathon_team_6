{
 "cells": [
  {
   "cell_type": "markdown",
   "metadata": {},
   "source": [
    "# Compute reduced alphabet "
   ]
  },
  {
   "cell_type": "code",
   "execution_count": 7,
   "metadata": {},
   "outputs": [],
   "source": [
    "import pandas as pd\n",
    "import pyrepseq as prs\n",
    "import numpy as np"
   ]
  },
  {
   "cell_type": "markdown",
   "metadata": {},
   "source": [
    "## Import data"
   ]
  },
  {
   "cell_type": "code",
   "execution_count": 37,
   "metadata": {},
   "outputs": [],
   "source": [
    "DATA_PATH = '/home/jhenderson/Documents/Projects/data_sets/tcr_sequences/CI_CRUK_datathon/'\n",
    "back = pd.read_csv(DATA_PATH + 'olga_preprocessed.csv')\n",
    "spc = pd.read_csv(DATA_PATH + 'tcrictionary_tabular.csv')\n",
    "tcr_info_scp = pd.read_csv(DATA_PATH + 'tcr_info_specific.csv')"
   ]
  },
  {
   "cell_type": "code",
   "execution_count": 38,
   "metadata": {},
   "outputs": [],
   "source": [
    "spc = spc[spc['TCR species'] == 'HomoSapiens']\n",
    "spc = spc[['CDR3A', 'CDR3B', 'epitope']].dropna()"
   ]
  },
  {
   "cell_type": "markdown",
   "metadata": {},
   "source": [
    "## Translation evaluation"
   ]
  },
  {
   "cell_type": "code",
   "execution_count": 40,
   "metadata": {},
   "outputs": [],
   "source": [
    "aminoacids = 'ACDEFGHIKLMNPQRSTVWY'"
   ]
  },
  {
   "cell_type": "code",
   "execution_count": 41,
   "metadata": {},
   "outputs": [],
   "source": [
    "def evaluate_translation(translation, spc, back):\n",
    "    \n",
    "    translation_table = str.maketrans(translation)\n",
    "    \n",
    "    back['translation_alpha'] = back['CDR3A'].apply(lambda x: x.translate(translation_table))\n",
    "    back['translation_beta'] = back['CDR3B'].apply(lambda x: x.translate(translation_table))\n",
    "    spc['translation_full'] = spc['CDR3A'].apply(lambda x: x.translate(translation_table)) + \"_\" + spc['CDR3B'].apply(lambda x: x.translate(translation_table))\n",
    "    \n",
    "    return prs.renyi2_entropy(back, 'translation_alpha') + prs.renyi2_entropy(back, 'translation_beta') - prs.renyi2_entropy(spc, 'translation_full', 'epitope')"
   ]
  },
  {
   "cell_type": "code",
   "execution_count": 42,
   "metadata": {},
   "outputs": [],
   "source": [
    "def make_translation_from_list(aa_to_be_one):\n",
    "    \n",
    "    return {aa: '1' if aa in aa_to_be_one else '0' for aa in aminoacids}"
   ]
  },
  {
   "cell_type": "markdown",
   "metadata": {},
   "source": [
    "## Greedy approach"
   ]
  },
  {
   "cell_type": "code",
   "execution_count": 33,
   "metadata": {},
   "outputs": [],
   "source": [
    "def greedy_algorithm():\n",
    "    \n",
    "    best_amino_acids_to_be_one = []\n",
    "    best_score = -np.inf\n",
    "    for i in range(20):\n",
    "        best_amino_acid_to_be_one = \"\"\n",
    "        best_local_score = -np.inf\n",
    "        for aa in aminoacids:\n",
    "            if aa not in best_amino_acids_to_be_one:\n",
    "                list_to_try = best_amino_acids_to_be_one.copy()\n",
    "                list_to_try.append(aa)\n",
    "                translation = make_translation_from_list(list_to_try)\n",
    "                score = evaluate_translation(translation, spc, back)\n",
    "                \n",
    "                if score > best_local_score:\n",
    "                    best_amino_acid_to_be_one = aa\n",
    "                    best_local_score = score\n",
    "        \n",
    "        if best_local_score <= best_score:\n",
    "            print(\"Locally optimal set found\")\n",
    "            return best_amino_acids_to_be_one, best_score\n",
    "        \n",
    "        else:\n",
    "            print(f\"Improvement found, new score: {best_local_score:.1f} bits\")\n",
    "            best_score = best_local_score\n",
    "            best_amino_acids_to_be_one.append(best_amino_acid_to_be_one)\n",
    "            \n",
    "    return best_amino_acids_to_be_one, best_score"
   ]
  },
  {
   "cell_type": "code",
   "execution_count": 34,
   "metadata": {},
   "outputs": [
    {
     "name": "stdout",
     "output_type": "stream",
     "text": [
      "Improvement found, new score: 12.4 bits\n",
      "Improvement found, new score: 15.8 bits\n",
      "Improvement found, new score: 18.2 bits\n",
      "Improvement found, new score: 20.0 bits\n",
      "Improvement found, new score: 21.0 bits\n",
      "Improvement found, new score: 21.6 bits\n",
      "Improvement found, new score: 21.7 bits\n",
      "Improvement found, new score: 21.8 bits\n",
      "Locally optimal set found\n"
     ]
    }
   ],
   "source": [
    "best, score = greedy_algorithm()"
   ]
  },
  {
   "cell_type": "code",
   "execution_count": 35,
   "metadata": {},
   "outputs": [
    {
     "data": {
      "text/plain": [
       "(['G', 'S', 'Y', 'A', 'E', 'I', 'K', 'W'],\n",
       " ['C', 'D', 'F', 'H', 'L', 'M', 'N', 'P', 'Q', 'R', 'T', 'V'],\n",
       " np.float64(21.761432200096724))"
      ]
     },
     "execution_count": 35,
     "metadata": {},
     "output_type": "execute_result"
    }
   ],
   "source": [
    "best, [aa for aa in aminoacids if aa not in best], score"
   ]
  },
  {
   "cell_type": "code",
   "execution_count": 43,
   "metadata": {},
   "outputs": [],
   "source": [
    "optimal_alphabet = make_translation_from_list(best)"
   ]
  },
  {
   "cell_type": "code",
   "execution_count": null,
   "metadata": {},
   "outputs": [],
   "source": []
  }
 ],
 "metadata": {
  "kernelspec": {
   "display_name": "venv",
   "language": "python",
   "name": "python3"
  },
  "language_info": {
   "codemirror_mode": {
    "name": "ipython",
    "version": 3
   },
   "file_extension": ".py",
   "mimetype": "text/x-python",
   "name": "python",
   "nbconvert_exporter": "python",
   "pygments_lexer": "ipython3",
   "version": "3.12.5"
  }
 },
 "nbformat": 4,
 "nbformat_minor": 2
}
