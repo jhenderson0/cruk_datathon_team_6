{
 "cells": [
  {
   "cell_type": "markdown",
   "metadata": {},
   "source": [
    "# Compute reduced alphabet "
   ]
  },
  {
   "cell_type": "code",
   "execution_count": 101,
   "metadata": {},
   "outputs": [],
   "source": [
    "import pandas as pd\n",
    "import pyrepseq as prs\n",
    "import numpy as np\n",
    "import itertools\n",
    "import matplotlib.pyplot as plt\n",
    "from scipy.spatial.distance import squareform"
   ]
  },
  {
   "cell_type": "markdown",
   "metadata": {},
   "source": [
    "## Import data"
   ]
  },
  {
   "cell_type": "code",
   "execution_count": 3,
   "metadata": {},
   "outputs": [],
   "source": [
    "DATA_PATH = '/home/jhenderson/Documents/Projects/data_sets/tcr_sequences/CI_CRUK_datathon/'\n",
    "\n",
    "#back = pd.read_csv(DATA_PATH + 'raw_data/olga_preprocessed.csv')\n",
    "train = pd.read_csv(DATA_PATH + 'processed_data/train.csv')\n",
    "train = train[['CDR3A', 'CDR3B', 'epitope', 'Assays']].dropna().reset_index(drop=True)\n",
    "train = train[train['Assays'].str.contains('mer')]\n",
    "\n",
    "aminoacids = 'ACDEFGHIKLMNPQRSTVWY'"
   ]
  },
  {
   "cell_type": "code",
   "execution_count": 4,
   "metadata": {},
   "outputs": [
    {
     "name": "stderr",
     "output_type": "stream",
     "text": [
      "<>:1: SyntaxWarning: invalid escape sequence '\\#'\n",
      "<>:1: SyntaxWarning: invalid escape sequence '\\*'\n",
      "<>:1: SyntaxWarning: invalid escape sequence '\\#'\n",
      "<>:1: SyntaxWarning: invalid escape sequence '\\*'\n",
      "/tmp/ipykernel_959905/3944243217.py:1: SyntaxWarning: invalid escape sequence '\\#'\n",
      "  train = train[~(train['CDR3A'].str.contains('\\#') | (train['CDR3A'].str.contains('\\*')) | (train['CDR3A'].str.contains('X')))]\n",
      "/tmp/ipykernel_959905/3944243217.py:1: SyntaxWarning: invalid escape sequence '\\*'\n",
      "  train = train[~(train['CDR3A'].str.contains('\\#') | (train['CDR3A'].str.contains('\\*')) | (train['CDR3A'].str.contains('X')))]\n"
     ]
    }
   ],
   "source": [
    "train = train[~(train['CDR3A'].str.contains('\\#') | (train['CDR3A'].str.contains('\\*')) | (train['CDR3A'].str.contains('X')))]"
   ]
  },
  {
   "cell_type": "markdown",
   "metadata": {},
   "source": [
    "## Clean data"
   ]
  },
  {
   "cell_type": "code",
   "execution_count": 382,
   "metadata": {},
   "outputs": [],
   "source": [
    "# def trim_sequences(df):\n",
    "#     \n",
    "#     df = df.copy()\n",
    "#     \n",
    "#     df.loc[:, 'CDR3A_length'] = df['CDR3A'].str.len().astype('Int64')\n",
    "#     df.loc[:, 'CDR3B_length'] = df['CDR3B'].str.len().astype('Int64')\n",
    "# \n",
    "#     df = df[\n",
    "#         (df['CDR3A_length'].isna()) | \n",
    "#         (df['CDR3A_length'] >= 9) & \n",
    "#         (df['CDR3A_length'] <= 18)\n",
    "#     ]\n",
    "# \n",
    "#     df = df[\n",
    "#         (df['CDR3B_length'].isna()) | \n",
    "#         (df['CDR3B_length'] >= 11) & \n",
    "#         (df['CDR3B_length'] <= 18)\n",
    "#     ]\n",
    "#     \n",
    "#     return df\n",
    "\n",
    "# def get_middle_five_left(aa_string):\n",
    "#     if pd.isna(aa_string):  # Check for NaN/null values\n",
    "#         return aa_string\n",
    "#     length = len(aa_string)\n",
    "#     \n",
    "#     if( length % 2 == 0 ):\n",
    "#             mid = length // 2 # integer division will ensure that doesnt matter if even or odd - it is floor so always rounds down\n",
    "#             start = mid - 3\n",
    "#             end = mid + 2\n",
    "#     else:\n",
    "#             mid = length // 2\n",
    "#             start = mid - 2\n",
    "#             end = mid + 3\n",
    "# \n",
    "#     return aa_string[start:end]\n",
    "# \n",
    "# \n",
    "# def get_middle_five_right(aa_string):\n",
    "#     if pd.isna(aa_string):  # Check for NaN/null values\n",
    "#         return aa_string\n",
    "#     length = len(aa_string)\n",
    "#     \n",
    "#     if( length % 2 == 0 ):\n",
    "#             mid = length // 2 # integer division will ensure that doesnt matter if even or odd - it is floor so always rounds down\n",
    "#             start = mid - 2\n",
    "#             end = mid + 3\n",
    "#     else:\n",
    "#             mid = length // 2\n",
    "#             start = mid - 2\n",
    "#             end = mid + 3\n",
    "# \n",
    "#     return aa_string[start:end]\n",
    "\n",
    "# back = trim_sequences(back)\n",
    "# back['CDR3A'] = back['CDR3A'].apply(get_middle_five_left)\n",
    "# back['CDR3B'] = back['CDR3B'].apply(get_middle_five_left)"
   ]
  },
  {
   "cell_type": "markdown",
   "metadata": {},
   "source": [
    "## Construct all possible reduced epitopes"
   ]
  },
  {
   "cell_type": "code",
   "execution_count": 25,
   "metadata": {},
   "outputs": [],
   "source": [
    "letters = ['0', '1']\n",
    "possible_reduced_epitopes = [''.join(i) for i in itertools.product(letters, repeat = 5)]\n",
    "reduced_epitope_letter_counts = {epitope : [epitope.count('0'), epitope.count('1')] for epitope in possible_reduced_epitopes }"
   ]
  },
  {
   "cell_type": "markdown",
   "metadata": {},
   "source": [
    "## Translation evaluation"
   ]
  },
  {
   "cell_type": "code",
   "execution_count": 32,
   "metadata": {},
   "outputs": [],
   "source": [
    "def translate_df(df, translation, columns_to_translate):\n",
    "    \n",
    "    df = df.copy()\n",
    "    translation_table = str.maketrans(translation)\n",
    "    for column in columns_to_translate:\n",
    "        df['translation_'+column] = df[column].apply(lambda x: x.translate(translation_table))\n",
    "    return df"
   ]
  },
  {
   "cell_type": "code",
   "execution_count": 33,
   "metadata": {},
   "outputs": [],
   "source": [
    "def compute_epitope_prior(translation):\n",
    "    \n",
    "    alphabet = list(translation.values()) \n",
    "    counts = {'0':alphabet.count('0'), '1':alphabet.count('1')}\n",
    "    priors = pd.Series(index=possible_reduced_epitopes)\n",
    "    for epitope in possible_reduced_epitopes:\n",
    "        priors[epitope] = (counts['0']/20)**(reduced_epitope_letter_counts[epitope][0])*(counts['1']/20)**(reduced_epitope_letter_counts[epitope][1])\n",
    "        \n",
    "    return priors"
   ]
  },
  {
   "cell_type": "code",
   "execution_count": 76,
   "metadata": {},
   "outputs": [],
   "source": [
    "def pc_conditional(df, feature, grouping, group_weights):\n",
    "    \n",
    "    df = df.groupby(grouping).filter(lambda x: len(x) > 1)\n",
    "    conditional_pcs = df.groupby(grouping).apply(lambda x: prs.pc(x[feature]), include_groups=False)\n",
    "    adjusted_group_weights = (group_weights**2)/np.sum(group_weights**2)\n",
    "    \n",
    "    return np.sum(adjusted_group_weights * conditional_pcs)"
   ]
  },
  {
   "cell_type": "code",
   "execution_count": 77,
   "metadata": {},
   "outputs": [],
   "source": [
    "def pc_cross(df, feature, grouping, group_weights):\n",
    "    \n",
    "    groups = sorted(list(df.groupby(grouping)))\n",
    "    pc_group = np.sum(group_weights**2)\n",
    "    data = []\n",
    "    for ((name1, d1)), (name2, d2) in itertools.combinations(groups, 2):\n",
    "        pc_cross_group = prs.pc(d1[feature], d2[feature])\n",
    "        weight = (group_weights[name1] * group_weights[name2]) / (1-pc_group)\n",
    "        data.append(weight * pc_cross_group)      \n",
    "    data = np.array(data)\n",
    "    return np.sum(data)"
   ]
  },
  {
   "cell_type": "code",
   "execution_count": 78,
   "metadata": {},
   "outputs": [],
   "source": [
    "def estimate_background_entropy(df, feature, grouping, epitope_weights):\n",
    "    \n",
    "    pc_within = pc_conditional(df, feature, grouping, epitope_weights)\n",
    "    pc_across = pc_cross(df, feature, grouping, epitope_weights)\n",
    "    pc_epitope = np.sum(epitope_weights**2)\n",
    "    \n",
    "    return -np.log2(pc_epitope*pc_within + (1-pc_epitope)*pc_across)"
   ]
  },
  {
   "cell_type": "code",
   "execution_count": 83,
   "metadata": {},
   "outputs": [],
   "source": [
    "def evaluate_translation(translation, spc):\n",
    "     \n",
    "    spc = translate_df(spc, translation, ['CDR3A', 'CDR3B', 'epitope'])\n",
    "    epitope_weights = compute_epitope_prior(translation)\n",
    "    \n",
    "    return estimate_background_entropy(spc, 'translation_CDR3A', 'translation_epitope', epitope_weights) + estimate_background_entropy(spc, 'translation_CDR3B', 'translation_epitope', epitope_weights) + np.log2(pc_conditional(spc, 'translation_CDR3A', 'translation_epitope', epitope_weights)) + np.log2(pc_conditional(spc, 'translation_CDR3B', 'translation_epitope', epitope_weights))"
   ]
  },
  {
   "cell_type": "code",
   "execution_count": 84,
   "metadata": {},
   "outputs": [],
   "source": [
    "def make_translation_from_list(aa_to_be_one):\n",
    "    \n",
    "    return {aa: '1' if aa in aa_to_be_one else '0' for aa in aminoacids}"
   ]
  },
  {
   "cell_type": "code",
   "execution_count": 85,
   "metadata": {},
   "outputs": [],
   "source": [
    "def greedy_algorithm(df):\n",
    "    \n",
    "    best_amino_acids_to_be_one = []\n",
    "    best_score = -np.inf\n",
    "    for i in range(20):\n",
    "        best_amino_acid_to_be_one = \"\"\n",
    "        best_local_score = -np.inf\n",
    "        for aa in aminoacids:\n",
    "            if aa not in best_amino_acids_to_be_one:\n",
    "                list_to_try = best_amino_acids_to_be_one.copy()\n",
    "                list_to_try.append(aa)\n",
    "                translation = make_translation_from_list(list_to_try)\n",
    "                score = evaluate_translation(translation, df)\n",
    "                \n",
    "                if score > best_local_score:\n",
    "                    best_amino_acid_to_be_one = aa\n",
    "                    best_local_score = score\n",
    "        \n",
    "        if best_local_score <= best_score:\n",
    "            print(\"Locally optimal set found\")\n",
    "            return best_amino_acids_to_be_one, best_score\n",
    "        \n",
    "        else:\n",
    "            print(f\"Improvement found, new score: {best_local_score:.1f} bits\")\n",
    "            best_score = best_local_score\n",
    "            best_amino_acids_to_be_one.append(best_amino_acid_to_be_one)\n",
    "            \n",
    "    return best_amino_acids_to_be_one, best_score"
   ]
  },
  {
   "cell_type": "markdown",
   "metadata": {},
   "source": [
    "## Training the representation"
   ]
  },
  {
   "cell_type": "code",
   "execution_count": 86,
   "metadata": {},
   "outputs": [
    {
     "name": "stdout",
     "output_type": "stream",
     "text": [
      "Improvement found, new score: 0.7 bits\n",
      "Improvement found, new score: 1.2 bits\n",
      "Improvement found, new score: 1.7 bits\n",
      "Improvement found, new score: 2.1 bits\n",
      "Improvement found, new score: 2.5 bits\n",
      "Improvement found, new score: 2.7 bits\n",
      "Improvement found, new score: 2.8 bits\n",
      "Locally optimal set found\n"
     ]
    }
   ],
   "source": [
    "best, score = greedy_algorithm(train)"
   ]
  },
  {
   "cell_type": "code",
   "execution_count": 124,
   "metadata": {},
   "outputs": [
    {
     "data": {
      "text/plain": [
       "(['G', 'R', 'A', 'S', 'I', 'P', 'C'],\n",
       " ['D', 'E', 'F', 'H', 'K', 'L', 'M', 'N', 'Q', 'T', 'V', 'W', 'Y'],\n",
       " np.float64(2.7867331737098366))"
      ]
     },
     "execution_count": 124,
     "metadata": {},
     "output_type": "execute_result"
    }
   ],
   "source": [
    "best, [aa for aa in aminoacids if aa not in best], score"
   ]
  },
  {
   "cell_type": "code",
   "execution_count": 91,
   "metadata": {},
   "outputs": [],
   "source": [
    "translated_df = translate_df(train, make_translation_from_list(best), ['CDR3A', 'CDR3B', 'epitope'])\n"
   ]
  },
  {
   "cell_type": "code",
   "execution_count": 94,
   "metadata": {},
   "outputs": [
    {
     "data": {
      "text/plain": [
       "np.float64(9.369524676509512)"
      ]
     },
     "execution_count": 94,
     "metadata": {},
     "output_type": "execute_result"
    }
   ],
   "source": [
    "prs.renyi2_entropy(translated_df, 'translation_CDR3A') + prs.renyi2_entropy(translated_df, 'translation_CDR3B')"
   ]
  },
  {
   "cell_type": "code",
   "execution_count": 118,
   "metadata": {},
   "outputs": [
    {
     "data": {
      "image/png": "[encoded data removed]",
      "text/plain": [
       "<Figure size 2000x500 with 1 Axes>"
      ]
     },
     "metadata": {},
     "output_type": "display_data"
    }
   ],
   "source": [
    "unique_epitopes, counts_epitopes = np.unique(translated_df['translation_epitope'], return_counts=True)\n",
    "fig, ax = plt.subplots(figsize = (20, 5))\n",
    "ax.bar(unique_epitopes,counts_epitopes)\n",
    "ax.set_yscale('log');"
   ]
  },
  {
   "cell_type": "code",
   "execution_count": 123,
   "metadata": {},
   "outputs": [
    {
     "data": {
      "image/png": "[encoded data removed]",
      "text/plain": [
       "<Figure size 2000x500 with 1 Axes>"
      ]
     },
     "metadata": {},
     "output_type": "display_data"
    }
   ],
   "source": [
    "unique_alphas, counts_alphas = np.unique(translated_df['translation_CDR3A'], return_counts=True)\n",
    "fig, ax = plt.subplots(figsize = (20, 5))\n",
    "ax.bar(unique_alphas,counts_alphas);"
   ]
  },
  {
   "cell_type": "code",
   "execution_count": 122,
   "metadata": {},
   "outputs": [
    {
     "data": {
      "image/png": "[encoded data removed]",
      "text/plain": [
       "<Figure size 2000x500 with 1 Axes>"
      ]
     },
     "metadata": {},
     "output_type": "display_data"
    }
   ],
   "source": [
    "unique_betas, counts_betas = np.unique(translated_df['translation_CDR3B'], return_counts=True)\n",
    "fig, ax = plt.subplots(figsize = (20, 5))\n",
    "ax.bar(unique_betas,counts_betas);"
   ]
  },
  {
   "cell_type": "code",
   "execution_count": null,
   "metadata": {},
   "outputs": [],
   "source": []
  }
 ],
 "metadata": {
  "kernelspec": {
   "display_name": "venv",
   "language": "python",
   "name": "python3"
  },
  "language_info": {
   "codemirror_mode": {
    "name": "ipython",
    "version": 3
   },
   "file_extension": ".py",
   "mimetype": "text/x-python",
   "name": "python",
   "nbconvert_exporter": "python",
   "pygments_lexer": "ipython3",
   "version": "3.12.5"
  }
 },
 "nbformat": 4,
 "nbformat_minor": 2
}
