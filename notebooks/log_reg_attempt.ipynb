{
 "cells": [
  {
   "cell_type": "code",
   "execution_count": 108,
   "metadata": {},
   "outputs": [],
   "source": [
    "import itertools\n",
    "from matplotlib import pyplot as plt\n",
    "import numpy as np\n",
    "import pandas as pd\n",
    "import torch\n",
    "from torch import Tensor\n",
    "from torch.nn import Module, Linear\n",
    "import torch.nn.functional as F\n",
    "from torch.optim import SGD\n",
    "from torch import special\n",
    "from tqdm import tqdm"
   ]
  },
  {
   "cell_type": "markdown",
   "metadata": {},
   "source": [
    "## Load data"
   ]
  },
  {
   "cell_type": "code",
   "execution_count": 135,
   "metadata": {},
   "outputs": [],
   "source": [
    "alphabet = pd.read_csv(\"../ignore/alphabet.csv\", index_col=0)\n",
    "data = pd.read_csv(\"../ignore/translation_train.csv\", index_col=0, dtype=str)\n",
    "olga_marginal = pd.read_csv(\"../ignore/average_olga_vector.csv\", header=None).values.squeeze()\n",
    "\n",
    "olga_marginal = torch.tensor(olga_marginal, dtype=torch.float32)"
   ]
  },
  {
   "cell_type": "code",
   "execution_count": 136,
   "metadata": {},
   "outputs": [
    {
     "data": {
      "text/html": [
       "<div>\n",
       "<style scoped>\n",
       "    .dataframe tbody tr th:only-of-type {\n",
       "        vertical-align: middle;\n",
       "    }\n",
       "\n",
       "    .dataframe tbody tr th {\n",
       "        vertical-align: top;\n",
       "    }\n",
       "\n",
       "    .dataframe thead th {\n",
       "        text-align: right;\n",
       "    }\n",
       "</style>\n",
       "<table border=\"1\" class=\"dataframe\">\n",
       "  <thead>\n",
       "    <tr style=\"text-align: right;\">\n",
       "      <th></th>\n",
       "      <th>A</th>\n",
       "      <th>C</th>\n",
       "      <th>D</th>\n",
       "      <th>E</th>\n",
       "      <th>F</th>\n",
       "      <th>G</th>\n",
       "      <th>H</th>\n",
       "      <th>I</th>\n",
       "      <th>K</th>\n",
       "      <th>L</th>\n",
       "      <th>M</th>\n",
       "      <th>N</th>\n",
       "      <th>P</th>\n",
       "      <th>Q</th>\n",
       "      <th>R</th>\n",
       "      <th>S</th>\n",
       "      <th>T</th>\n",
       "      <th>V</th>\n",
       "      <th>W</th>\n",
       "      <th>Y</th>\n",
       "    </tr>\n",
       "  </thead>\n",
       "  <tbody>\n",
       "    <tr>\n",
       "      <th>Letter</th>\n",
       "      <td>0</td>\n",
       "      <td>1</td>\n",
       "      <td>0</td>\n",
       "      <td>1</td>\n",
       "      <td>0</td>\n",
       "      <td>1</td>\n",
       "      <td>1</td>\n",
       "      <td>0</td>\n",
       "      <td>0</td>\n",
       "      <td>0</td>\n",
       "      <td>1</td>\n",
       "      <td>1</td>\n",
       "      <td>0</td>\n",
       "      <td>1</td>\n",
       "      <td>0</td>\n",
       "      <td>0</td>\n",
       "      <td>0</td>\n",
       "      <td>0</td>\n",
       "      <td>1</td>\n",
       "      <td>1</td>\n",
       "    </tr>\n",
       "  </tbody>\n",
       "</table>\n",
       "</div>"
      ],
      "text/plain": [
       "        A  C  D  E  F  G  H  I  K  L  M  N  P  Q  R  S  T  V  W  Y\n",
       "Letter  0  1  0  1  0  1  1  0  0  0  1  1  0  1  0  0  0  0  1  1"
      ]
     },
     "execution_count": 136,
     "metadata": {},
     "output_type": "execute_result"
    }
   ],
   "source": [
    "alphabet"
   ]
  },
  {
   "cell_type": "code",
   "execution_count": 137,
   "metadata": {},
   "outputs": [
    {
     "data": {
      "text/html": [
       "<div>\n",
       "<style scoped>\n",
       "    .dataframe tbody tr th:only-of-type {\n",
       "        vertical-align: middle;\n",
       "    }\n",
       "\n",
       "    .dataframe tbody tr th {\n",
       "        vertical-align: top;\n",
       "    }\n",
       "\n",
       "    .dataframe thead th {\n",
       "        text-align: right;\n",
       "    }\n",
       "</style>\n",
       "<table border=\"1\" class=\"dataframe\">\n",
       "  <thead>\n",
       "    <tr style=\"text-align: right;\">\n",
       "      <th></th>\n",
       "      <th>CDR3A</th>\n",
       "      <th>CDR3B</th>\n",
       "      <th>epitope</th>\n",
       "      <th>Assays</th>\n",
       "      <th>translation_CDR3A</th>\n",
       "      <th>translation_CDR3B</th>\n",
       "      <th>translation_epitope</th>\n",
       "    </tr>\n",
       "  </thead>\n",
       "  <tbody>\n",
       "    <tr>\n",
       "      <th>0</th>\n",
       "      <td>EGVND</td>\n",
       "      <td>SGTGI</td>\n",
       "      <td>DRKSD</td>\n",
       "      <td>multimer/tetramer</td>\n",
       "      <td>11010</td>\n",
       "      <td>01010</td>\n",
       "      <td>00000</td>\n",
       "    </tr>\n",
       "    <tr>\n",
       "      <th>1</th>\n",
       "      <td>STGAN</td>\n",
       "      <td>GRGGY</td>\n",
       "      <td>GGALQ</td>\n",
       "      <td>dextramer-sort,dextramer-sort</td>\n",
       "      <td>00101</td>\n",
       "      <td>10111</td>\n",
       "      <td>11001</td>\n",
       "    </tr>\n",
       "    <tr>\n",
       "      <th>2</th>\n",
       "      <td>STGAN</td>\n",
       "      <td>GRGGY</td>\n",
       "      <td>GGALQ</td>\n",
       "      <td>dextramer-sort,dextramer-sort</td>\n",
       "      <td>00101</td>\n",
       "      <td>10111</td>\n",
       "      <td>11001</td>\n",
       "    </tr>\n",
       "    <tr>\n",
       "      <th>3</th>\n",
       "      <td>LDSNY</td>\n",
       "      <td>AGEPY</td>\n",
       "      <td>GGALQ</td>\n",
       "      <td>dextramer-sort,dextramer-sort</td>\n",
       "      <td>00011</td>\n",
       "      <td>01101</td>\n",
       "      <td>11001</td>\n",
       "    </tr>\n",
       "    <tr>\n",
       "      <th>4</th>\n",
       "      <td>LDSNY</td>\n",
       "      <td>AGEPY</td>\n",
       "      <td>GGALQ</td>\n",
       "      <td>dextramer-sort,dextramer-sort</td>\n",
       "      <td>00011</td>\n",
       "      <td>01101</td>\n",
       "      <td>11001</td>\n",
       "    </tr>\n",
       "  </tbody>\n",
       "</table>\n",
       "</div>"
      ],
      "text/plain": [
       "   CDR3A  CDR3B epitope                         Assays translation_CDR3A  \\\n",
       "0  EGVND  SGTGI   DRKSD              multimer/tetramer             11010   \n",
       "1  STGAN  GRGGY   GGALQ  dextramer-sort,dextramer-sort             00101   \n",
       "2  STGAN  GRGGY   GGALQ  dextramer-sort,dextramer-sort             00101   \n",
       "3  LDSNY  AGEPY   GGALQ  dextramer-sort,dextramer-sort             00011   \n",
       "4  LDSNY  AGEPY   GGALQ  dextramer-sort,dextramer-sort             00011   \n",
       "\n",
       "  translation_CDR3B translation_epitope  \n",
       "0             01010               00000  \n",
       "1             10111               11001  \n",
       "2             10111               11001  \n",
       "3             01101               11001  \n",
       "4             01101               11001  "
      ]
     },
     "execution_count": 137,
     "metadata": {},
     "output_type": "execute_result"
    }
   ],
   "source": [
    "data.head()"
   ]
  },
  {
   "cell_type": "code",
   "execution_count": 138,
   "metadata": {},
   "outputs": [
    {
     "data": {
      "text/plain": [
       "tensor([0.3483, 0.4406, 0.5417, 0.5723, 0.5527, 0.3177, 0.3935, 0.4306, 0.4339,\n",
       "        0.4961])"
      ]
     },
     "execution_count": 138,
     "metadata": {},
     "output_type": "execute_result"
    }
   ],
   "source": [
    "olga_marginal"
   ]
  },
  {
   "cell_type": "code",
   "execution_count": 40,
   "metadata": {},
   "outputs": [],
   "source": [
    "def compute_epitope_priors(epi_length: int, num_ones_in_alphabet: int) -> dict:\n",
    "    \"\"\"\n",
    "    Compute the prior probability of each epitope of length `epi_length` given the alphabet.\n",
    "    \"\"\"\n",
    "    prob_one = num_ones_in_alphabet / 20\n",
    "    prob_zero = 1 - prob_one\n",
    "\n",
    "    possible_epitopes = [tuple(prod) for prod in itertools.product([0,1], repeat=epi_length)]\n",
    "    \n",
    "    def compute_prob(epitope: tuple) -> float:\n",
    "        return prob_one ** epitope.count(1) * prob_zero ** epitope.count(0)\n",
    "    \n",
    "    return {epitope: compute_prob(epitope) for epitope in possible_epitopes}"
   ]
  },
  {
   "cell_type": "code",
   "execution_count": 50,
   "metadata": {},
   "outputs": [],
   "source": [
    "num_ones_in_alphabet = int(alphabet.loc[\"Letter\"].sum())\n",
    "epitope_priors = compute_epitope_priors(5, num_ones_in_alphabet)"
   ]
  },
  {
   "cell_type": "code",
   "execution_count": 94,
   "metadata": {},
   "outputs": [],
   "source": [
    "# Turn translated sequences into torch tensors\n",
    "def map_zero_one_string_to_tensor(zero_one_string: str) -> Tensor:\n",
    "    return torch.tensor([float(char) for char in zero_one_string])\n",
    "\n",
    "cdr3a_tensor = torch.stack(data[\"translation_CDR3A\"].map(map_zero_one_string_to_tensor).tolist())\n",
    "cdr3b_tensor = torch.stack(data[\"translation_CDR3B\"].map(map_zero_one_string_to_tensor).tolist())\n",
    "tcr_tensor = torch.concatenate((cdr3a_tensor, cdr3b_tensor), dim=1)\n",
    "epitope_tensor = torch.stack(data[\"translation_epitope\"].map(map_zero_one_string_to_tensor).tolist())"
   ]
  },
  {
   "cell_type": "markdown",
   "metadata": {},
   "source": [
    "## Define Dumpy"
   ]
  },
  {
   "cell_type": "code",
   "execution_count": 79,
   "metadata": {},
   "outputs": [],
   "source": [
    "class Dumpy(Module):\n",
    "    def __init__(self, in_features: int, out_features: int):\n",
    "        super(Dumpy, self).__init__()\n",
    "        self.linear = Linear(in_features=in_features, out_features=out_features, bias=True)\n",
    "    \n",
    "    def forward(self, x):\n",
    "        x = self.linear(x)\n",
    "        return special.expit(x)\n",
    "\n",
    "    def forward_logit(self, x):\n",
    "        return self.linear(x)"
   ]
  },
  {
   "cell_type": "markdown",
   "metadata": {},
   "source": [
    "## Train\n",
    "\n",
    "Here the hyperparameter **lambda** (`lmb` in code) is the relative weighting of the **marginal loss term** (how close the model's marginal TCR distribution is to the target OLGA marginal) compared to the **conditional loss term** (how well the model can predict TCR given epitope).\n",
    "I execute 10 different training runs with varying lambda, to see which lambda we like the trade-off of most.\n",
    "This trade-off is evaluated later down in the notebook."
   ]
  },
  {
   "cell_type": "code",
   "execution_count": 127,
   "metadata": {},
   "outputs": [],
   "source": [
    "def train(epitope_tensor: Tensor, tcr_tensor: Tensor, epitope_priors: dict[tuple, float], target_marginal: Tensor, lmb: float, epochs: int = 5000):\n",
    "    model = Dumpy(5, 10)\n",
    "    optimizer = SGD(model.parameters(), lr=1)\n",
    "\n",
    "    losses = []\n",
    "\n",
    "    for _ in tqdm(range(epochs)):\n",
    "        optimizer.zero_grad()\n",
    "\n",
    "        model_output = model.forward_logit(epitope_tensor)\n",
    "        model_marginal = compute_model_marginal(model, epitope_priors)\n",
    "        conditional_loss = F.binary_cross_entropy_with_logits(model_output, tcr_tensor)\n",
    "        marginal_loss = F.binary_cross_entropy(model_marginal, target_marginal.unsqueeze(0))\n",
    "        loss = conditional_loss + lmb * marginal_loss\n",
    "\n",
    "        losses.append(loss.item())\n",
    "\n",
    "        loss.backward()\n",
    "        optimizer.step()\n",
    "\n",
    "    print(f\"Lambda: {lmb}\")\n",
    "    print(f\"Conditional loss: {conditional_loss.item()}\")\n",
    "    print(f\"Marginal loss: {marginal_loss.item()}\")\n",
    "\n",
    "    plt.figure(figsize=(3,1))\n",
    "    plt.plot(losses)\n",
    "    plt.xlabel(\"Epoch\")\n",
    "    plt.ylabel(\"Loss\")\n",
    "    plt.xticks([])\n",
    "    plt.yticks([])\n",
    "    plt.show()\n",
    "\n",
    "    return model, conditional_loss.item(), marginal_loss.item()\n",
    "\n",
    "def compute_model_marginal(model: Module, epitope_priors: dict[tuple, float]) -> Tensor:\n",
    "    weighted_conditionals = [model.forward(torch.tensor(epitope, dtype=torch.float32).unsqueeze(0)) * epitope_prior for epitope, epitope_prior in epitope_priors.items()]\n",
    "    return torch.sum(torch.stack(weighted_conditionals, dim=0), dim=0)\n",
    "\n",
    "def compute_average_data_likelihood(model: Module, epitope_tensor: Tensor, tcr_tensor: Tensor) -> float:\n",
    "    model_output = model.forward_logit(epitope_tensor)\n",
    "    return F.binary_cross_entropy_with_logits(model_output, tcr_tensor).item()"
   ]
  },
  {
   "cell_type": "code",
   "execution_count": 128,
   "metadata": {},
   "outputs": [
    {
     "name": "stderr",
     "output_type": "stream",
     "text": [
      "100%|██████████| 5000/5000 [00:11<00:00, 425.46it/s]"
     ]
    },
    {
     "name": "stdout",
     "output_type": "stream",
     "text": [
      "Lambda: 0.10000000149011612\n",
      "Conditional loss: 0.670039713382721\n",
      "Marginal loss: 0.6769285202026367\n"
     ]
    },
    {
     "name": "stderr",
     "output_type": "stream",
     "text": [
      "\n"
     ]
    },
    {
     "data": {
      "image/png": "[encoded data removed]",
      "text/plain": [
       "<Figure size 300x100 with 1 Axes>"
      ]
     },
     "metadata": {},
     "output_type": "display_data"
    },
    {
     "name": "stderr",
     "output_type": "stream",
     "text": [
      "100%|██████████| 5000/5000 [00:11<00:00, 422.82it/s]"
     ]
    },
    {
     "name": "stdout",
     "output_type": "stream",
     "text": [
      "Lambda: 0.1668100506067276\n",
      "Conditional loss: 0.6701127886772156\n",
      "Marginal loss: 0.6763703227043152\n"
     ]
    },
    {
     "name": "stderr",
     "output_type": "stream",
     "text": [
      "\n"
     ]
    },
    {
     "data": {
      "image/png": "[encoded data removed]",
      "text/plain": [
       "<Figure size 300x100 with 1 Axes>"
      ]
     },
     "metadata": {},
     "output_type": "display_data"
    },
    {
     "name": "stderr",
     "output_type": "stream",
     "text": [
      "100%|██████████| 5000/5000 [00:12<00:00, 412.44it/s]"
     ]
    },
    {
     "name": "stdout",
     "output_type": "stream",
     "text": [
      "Lambda: 0.2782559394836426\n",
      "Conditional loss: 0.6702274084091187\n",
      "Marginal loss: 0.6758408546447754\n"
     ]
    },
    {
     "name": "stderr",
     "output_type": "stream",
     "text": [
      "\n"
     ]
    },
    {
     "data": {
      "image/png": "[encoded data removed]",
      "text/plain": [
       "<Figure size 300x100 with 1 Axes>"
      ]
     },
     "metadata": {},
     "output_type": "display_data"
    },
    {
     "name": "stderr",
     "output_type": "stream",
     "text": [
      "100%|██████████| 5000/5000 [00:11<00:00, 422.57it/s]"
     ]
    },
    {
     "name": "stdout",
     "output_type": "stream",
     "text": [
      "Lambda: 0.46415889263153076\n",
      "Conditional loss: 0.6703765988349915\n",
      "Marginal loss: 0.6754242181777954\n"
     ]
    },
    {
     "name": "stderr",
     "output_type": "stream",
     "text": [
      "\n"
     ]
    },
    {
     "data": {
      "image/png": "[encoded data removed]",
      "text/plain": [
       "<Figure size 300x100 with 1 Axes>"
      ]
     },
     "metadata": {},
     "output_type": "display_data"
    },
    {
     "name": "stderr",
     "output_type": "stream",
     "text": [
      "100%|██████████| 5000/5000 [00:11<00:00, 426.35it/s]\n"
     ]
    },
    {
     "name": "stdout",
     "output_type": "stream",
     "text": [
      "Lambda: 0.7742636799812317\n",
      "Conditional loss: 0.6705380082130432\n",
      "Marginal loss: 0.6751519441604614\n"
     ]
    },
    {
     "data": {
      "image/png": "[encoded data removed]",
      "text/plain": [
       "<Figure size 300x100 with 1 Axes>"
      ]
     },
     "metadata": {},
     "output_type": "display_data"
    },
    {
     "name": "stderr",
     "output_type": "stream",
     "text": [
      "100%|██████████| 5000/5000 [00:11<00:00, 424.58it/s]"
     ]
    },
    {
     "name": "stdout",
     "output_type": "stream",
     "text": [
      "Lambda: 1.2915496826171875\n",
      "Conditional loss: 0.6706857681274414\n",
      "Marginal loss: 0.6750014424324036\n"
     ]
    },
    {
     "name": "stderr",
     "output_type": "stream",
     "text": [
      "\n"
     ]
    },
    {
     "data": {
      "image/png": "[encoded data removed]",
      "text/plain": [
       "<Figure size 300x100 with 1 Axes>"
      ]
     },
     "metadata": {},
     "output_type": "display_data"
    },
    {
     "name": "stderr",
     "output_type": "stream",
     "text": [
      "100%|██████████| 5000/5000 [00:11<00:00, 424.61it/s]"
     ]
    },
    {
     "name": "stdout",
     "output_type": "stream",
     "text": [
      "Lambda: 2.1544346809387207\n",
      "Conditional loss: 0.6708043217658997\n",
      "Marginal loss: 0.6749286651611328\n"
     ]
    },
    {
     "name": "stderr",
     "output_type": "stream",
     "text": [
      "\n"
     ]
    },
    {
     "data": {
      "image/png": "[encoded data removed]",
      "text/plain": [
       "<Figure size 300x100 with 1 Axes>"
      ]
     },
     "metadata": {},
     "output_type": "display_data"
    },
    {
     "name": "stderr",
     "output_type": "stream",
     "text": [
      "100%|██████████| 5000/5000 [00:11<00:00, 425.60it/s]"
     ]
    },
    {
     "name": "stdout",
     "output_type": "stream",
     "text": [
      "Lambda: 3.59381365776062\n",
      "Conditional loss: 0.6708903908729553\n",
      "Marginal loss: 0.6748969554901123\n"
     ]
    },
    {
     "name": "stderr",
     "output_type": "stream",
     "text": [
      "\n"
     ]
    },
    {
     "data": {
      "image/png": "[encoded data removed]",
      "text/plain": [
       "<Figure size 300x100 with 1 Axes>"
      ]
     },
     "metadata": {},
     "output_type": "display_data"
    },
    {
     "name": "stderr",
     "output_type": "stream",
     "text": [
      "100%|██████████| 5000/5000 [00:11<00:00, 425.23it/s]"
     ]
    },
    {
     "name": "stdout",
     "output_type": "stream",
     "text": [
      "Lambda: 5.994842529296875\n",
      "Conditional loss: 0.6709486842155457\n",
      "Marginal loss: 0.674884021282196\n"
     ]
    },
    {
     "name": "stderr",
     "output_type": "stream",
     "text": [
      "\n"
     ]
    },
    {
     "data": {
      "image/png": "[encoded data removed]",
      "text/plain": [
       "<Figure size 300x100 with 1 Axes>"
      ]
     },
     "metadata": {},
     "output_type": "display_data"
    },
    {
     "name": "stderr",
     "output_type": "stream",
     "text": [
      "100%|██████████| 5000/5000 [00:11<00:00, 425.69it/s]"
     ]
    },
    {
     "name": "stdout",
     "output_type": "stream",
     "text": [
      "Lambda: 10.0\n",
      "Conditional loss: 0.6709864139556885\n",
      "Marginal loss: 0.6748790740966797\n"
     ]
    },
    {
     "name": "stderr",
     "output_type": "stream",
     "text": [
      "\n"
     ]
    },
    {
     "data": {
      "image/png": "[encoded data removed]",
      "text/plain": [
       "<Figure size 300x100 with 1 Axes>"
      ]
     },
     "metadata": {},
     "output_type": "display_data"
    }
   ],
   "source": [
    "lmbs = torch.logspace(-1, 1, 10)\n",
    "results = {lmb.item(): train(epitope_tensor, tcr_tensor, epitope_priors, olga_marginal, lmb) for lmb in lmbs}"
   ]
  },
  {
   "cell_type": "markdown",
   "metadata": {},
   "source": [
    "## Inspect different pareto-optimal models"
   ]
  },
  {
   "cell_type": "code",
   "execution_count": 194,
   "metadata": {},
   "outputs": [],
   "source": [
    "conditional_losses = [result[1] for result in results.values()]\n",
    "marginal_losses = [result[2] for result in results.values()]\n",
    "results_table = pd.DataFrame({\"Lambda\": results.keys(), \"Conditional loss\": conditional_losses, \"Marginal loss\": marginal_losses})"
   ]
  },
  {
   "cell_type": "code",
   "execution_count": 195,
   "metadata": {},
   "outputs": [
    {
     "data": {
      "text/html": [
       "<div>\n",
       "<style scoped>\n",
       "    .dataframe tbody tr th:only-of-type {\n",
       "        vertical-align: middle;\n",
       "    }\n",
       "\n",
       "    .dataframe tbody tr th {\n",
       "        vertical-align: top;\n",
       "    }\n",
       "\n",
       "    .dataframe thead th {\n",
       "        text-align: right;\n",
       "    }\n",
       "</style>\n",
       "<table border=\"1\" class=\"dataframe\">\n",
       "  <thead>\n",
       "    <tr style=\"text-align: right;\">\n",
       "      <th></th>\n",
       "      <th>Lambda</th>\n",
       "      <th>Conditional loss</th>\n",
       "      <th>Marginal loss</th>\n",
       "    </tr>\n",
       "  </thead>\n",
       "  <tbody>\n",
       "    <tr>\n",
       "      <th>0</th>\n",
       "      <td>0.100000</td>\n",
       "      <td>0.670040</td>\n",
       "      <td>0.676929</td>\n",
       "    </tr>\n",
       "    <tr>\n",
       "      <th>1</th>\n",
       "      <td>0.166810</td>\n",
       "      <td>0.670113</td>\n",
       "      <td>0.676370</td>\n",
       "    </tr>\n",
       "    <tr>\n",
       "      <th>2</th>\n",
       "      <td>0.278256</td>\n",
       "      <td>0.670227</td>\n",
       "      <td>0.675841</td>\n",
       "    </tr>\n",
       "    <tr>\n",
       "      <th>3</th>\n",
       "      <td>0.464159</td>\n",
       "      <td>0.670377</td>\n",
       "      <td>0.675424</td>\n",
       "    </tr>\n",
       "    <tr>\n",
       "      <th>4</th>\n",
       "      <td>0.774264</td>\n",
       "      <td>0.670538</td>\n",
       "      <td>0.675152</td>\n",
       "    </tr>\n",
       "    <tr>\n",
       "      <th>5</th>\n",
       "      <td>1.291550</td>\n",
       "      <td>0.670686</td>\n",
       "      <td>0.675001</td>\n",
       "    </tr>\n",
       "    <tr>\n",
       "      <th>6</th>\n",
       "      <td>2.154435</td>\n",
       "      <td>0.670804</td>\n",
       "      <td>0.674929</td>\n",
       "    </tr>\n",
       "    <tr>\n",
       "      <th>7</th>\n",
       "      <td>3.593814</td>\n",
       "      <td>0.670890</td>\n",
       "      <td>0.674897</td>\n",
       "    </tr>\n",
       "    <tr>\n",
       "      <th>8</th>\n",
       "      <td>5.994843</td>\n",
       "      <td>0.670949</td>\n",
       "      <td>0.674884</td>\n",
       "    </tr>\n",
       "    <tr>\n",
       "      <th>9</th>\n",
       "      <td>10.000000</td>\n",
       "      <td>0.670986</td>\n",
       "      <td>0.674879</td>\n",
       "    </tr>\n",
       "  </tbody>\n",
       "</table>\n",
       "</div>"
      ],
      "text/plain": [
       "      Lambda  Conditional loss  Marginal loss\n",
       "0   0.100000          0.670040       0.676929\n",
       "1   0.166810          0.670113       0.676370\n",
       "2   0.278256          0.670227       0.675841\n",
       "3   0.464159          0.670377       0.675424\n",
       "4   0.774264          0.670538       0.675152\n",
       "5   1.291550          0.670686       0.675001\n",
       "6   2.154435          0.670804       0.674929\n",
       "7   3.593814          0.670890       0.674897\n",
       "8   5.994843          0.670949       0.674884\n",
       "9  10.000000          0.670986       0.674879"
      ]
     },
     "execution_count": 195,
     "metadata": {},
     "output_type": "execute_result"
    }
   ],
   "source": [
    "results_table"
   ]
  },
  {
   "cell_type": "code",
   "execution_count": 196,
   "metadata": {},
   "outputs": [
    {
     "data": {
      "image/png": "[encoded data removed]",
      "text/plain": [
       "<Figure size 640x480 with 2 Axes>"
      ]
     },
     "metadata": {},
     "output_type": "display_data"
    }
   ],
   "source": [
    "plt.figure()\n",
    "\n",
    "scatter = plt.scatter(results_table[\"Conditional loss\"], results_table[\"Marginal loss\"], c=np.log10(results_table[\"Lambda\"]))\n",
    "plt.colorbar(scatter, label=\"Log10(lambda)\")\n",
    "\n",
    "plt.title(\"Pareto-Optimal Solutions\")\n",
    "plt.xlabel(\"Conditional loss (BCE)\")\n",
    "plt.ylabel(\"Marginal loss (BCE)\")\n",
    "\n",
    "plt.show()"
   ]
  },
  {
   "cell_type": "markdown",
   "metadata": {},
   "source": [
    "## Make joint model\n",
    "\n",
    "The `Dumpy` model on its own can only compute the conditional distribution of TCRs given epitope.\n",
    "A combination of a Dumpy instance and a prior distribution over the epitope hypercube gives you the full joint distribution.\n",
    "I implement a class below which concretises this idea."
   ]
  },
  {
   "cell_type": "code",
   "execution_count": 186,
   "metadata": {},
   "outputs": [],
   "source": [
    "class DumpyJoint:\n",
    "    def __init__(self, dumpy_model: Dumpy, epitope_priors: dict[tuple, float]):\n",
    "        self.dumpy_model = dumpy_model\n",
    "        self.tcr_dimensionality = dumpy_model.linear.out_features\n",
    "        self.epitope_dimensionality = dumpy_model.linear.in_features\n",
    "        self.epitope_priors = epitope_priors\n",
    "\n",
    "    @torch.no_grad()\n",
    "    def joint(self, tcrs: Tensor, epitopes: Tensor) -> Tensor:\n",
    "        \"\"\"\n",
    "        Compute a matrix of joint probabilities of TCRs and epitopes.\n",
    "        The shape of the output matrix is (n_tcrs, n_epitopes).\n",
    "        That is, this function computes the probability of all pairs between input TCRs and epitopes.\n",
    "        \"\"\"\n",
    "        tcr_distributions = self.dumpy_model.forward(epitopes)\n",
    "        conditional_tcr_probs = self._get_likelihood(tcrs, tcr_distributions)\n",
    "        marginal_epitope_probs = self._get_epitope_marginals(epitopes)\n",
    "        return marginal_epitope_probs.unsqueeze(0) * conditional_tcr_probs\n",
    "\n",
    "    def _get_likelihood(self, target: Tensor, distribution: Tensor) -> Tensor:\n",
    "        distribution = distribution.unsqueeze(0)\n",
    "        target = target.unsqueeze(1)\n",
    "        return torch.prod(target * distribution + (1 - target) * (1 - distribution), dim=-1)\n",
    "\n",
    "    def _get_epitope_marginals(self, epitopes: Tensor) -> Tensor:\n",
    "        epitopes_as_tuples = [tuple(epitope.to(int).tolist()) for epitope in epitopes]\n",
    "        marginals = [self.epitope_priors[epitope] for epitope in epitopes_as_tuples]\n",
    "        return torch.tensor(marginals)"
   ]
  },
  {
   "cell_type": "code",
   "execution_count": 187,
   "metadata": {},
   "outputs": [],
   "source": [
    "joint_model = DumpyJoint(Dumpy(5, 10), epitope_priors)\n",
    "mini_tcr_tensor = tcr_tensor[:3]\n",
    "mini_epitope_tensor = epitope_tensor[:3]"
   ]
  },
  {
   "cell_type": "code",
   "execution_count": 197,
   "metadata": {},
   "outputs": [
    {
     "data": {
      "text/plain": [
       "tensor(1.)"
      ]
     },
     "execution_count": 197,
     "metadata": {},
     "output_type": "execute_result"
    }
   ],
   "source": [
    "all_possible_tcrs = torch.stack([torch.tensor(prod, dtype=torch.float32) for prod in itertools.product([0,1], repeat=10)])\n",
    "all_possible_epitopes = torch.stack([torch.tensor(epitope, dtype=torch.float32) for epitope in epitope_priors.keys()])\n",
    "joint_model.joint(all_possible_tcrs, all_possible_epitopes).sum() # Should be 1"
   ]
  },
  {
   "cell_type": "code",
   "execution_count": null,
   "metadata": {},
   "outputs": [],
   "source": []
  }
 ],
 "metadata": {
  "kernelspec": {
   "display_name": ".venv",
   "language": "python",
   "name": "python3"
  },
  "language_info": {
   "codemirror_mode": {
    "name": "ipython",
    "version": 3
   },
   "file_extension": ".py",
   "mimetype": "text/x-python",
   "name": "python",
   "nbconvert_exporter": "python",
   "pygments_lexer": "ipython3",
   "version": "3.12.8"
  }
 },
 "nbformat": 4,
 "nbformat_minor": 2
}
