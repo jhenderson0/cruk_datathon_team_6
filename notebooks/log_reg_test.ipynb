{
 "cells": [
  {
   "cell_type": "code",
   "execution_count": 1,
   "metadata": {},
   "outputs": [],
   "source": [
    "import numpy as np\n",
    "from sklearn.linear_model import LogisticRegression\n",
    "from sklearn.multioutput import MultiOutputClassifier"
   ]
  },
  {
   "cell_type": "code",
   "execution_count": 2,
   "metadata": {},
   "outputs": [],
   "source": [
    "input = np.random.randint(2, size=(1000, 5))\n",
    "output = np.concatenate((input, input), axis=1)\n",
    "noise = np.random.choice([0, 1], size=output.shape, p=[0.9, 0.1])\n",
    "output = output ^ noise"
   ]
  },
  {
   "cell_type": "code",
   "execution_count": 3,
   "metadata": {},
   "outputs": [],
   "source": [
    "cls = MultiOutputClassifier(LogisticRegression()).fit(input, output)"
   ]
  },
  {
   "cell_type": "code",
   "execution_count": 4,
   "metadata": {},
   "outputs": [
    {
     "data": {
      "text/plain": [
       "[array([[0.12623232, 0.87376768]]),\n",
       " array([[0.06630806, 0.93369194]]),\n",
       " array([[0.9080659, 0.0919341]]),\n",
       " array([[0.8803219, 0.1196781]]),\n",
       " array([[0.88283731, 0.11716269]]),\n",
       " array([[0.10962904, 0.89037096]]),\n",
       " array([[0.08200295, 0.91799705]]),\n",
       " array([[0.79956396, 0.20043604]]),\n",
       " array([[0.87107395, 0.12892605]]),\n",
       " array([[0.86754249, 0.13245751]])]"
      ]
     },
     "execution_count": 4,
     "metadata": {},
     "output_type": "execute_result"
    }
   ],
   "source": [
    "cls.predict_proba(input[:1])"
   ]
  },
  {
   "cell_type": "code",
   "execution_count": 5,
   "metadata": {},
   "outputs": [
    {
     "data": {
      "text/plain": [
       "array([[1, 1, 0, 0, 0]])"
      ]
     },
     "execution_count": 5,
     "metadata": {},
     "output_type": "execute_result"
    }
   ],
   "source": [
    "input[:1]"
   ]
  },
  {
   "cell_type": "code",
   "execution_count": 6,
   "metadata": {},
   "outputs": [],
   "source": [
    "import torch\n",
    "from torch.nn import Module, Linear, BCEWithLogitsLoss\n",
    "from torch.optim import SGD\n",
    "from torch import special"
   ]
  },
  {
   "cell_type": "code",
   "execution_count": 7,
   "metadata": {},
   "outputs": [],
   "source": [
    "class Dumpy(Module):\n",
    "    def __init__(self):\n",
    "        super(Dumpy, self).__init__()\n",
    "        self.linear = Linear(in_features=5, out_features=10, bias=True)\n",
    "    \n",
    "    def forward(self, x):\n",
    "        x = self.linear(x)\n",
    "        return special.expit(x)\n",
    "\n",
    "    def forward_logit(self, x):\n",
    "        return self.linear(x)"
   ]
  },
  {
   "cell_type": "code",
   "execution_count": 8,
   "metadata": {},
   "outputs": [],
   "source": [
    "x = torch.tensor(input, dtype=torch.float32)\n",
    "y = torch.tensor(output, dtype=torch.float32)\n",
    "\n",
    "cls_pt = Dumpy()\n",
    "optimizer = SGD(cls_pt.parameters(), lr=1)\n",
    "bcewl = BCEWithLogitsLoss()"
   ]
  },
  {
   "cell_type": "code",
   "execution_count": 9,
   "metadata": {},
   "outputs": [
    {
     "name": "stdout",
     "output_type": "stream",
     "text": [
      "0.7359381318092346\n",
      "0.319843590259552\n",
      "0.3159427344799042\n",
      "0.31549105048179626\n",
      "0.31541693210601807\n",
      "0.315403550863266\n",
      "0.3154010772705078\n",
      "0.3154005706310272\n",
      "0.31540045142173767\n",
      "0.31540045142173767\n"
     ]
    }
   ],
   "source": [
    "EPOCHS = 10_000\n",
    "\n",
    "for epoch in range(EPOCHS):\n",
    "    optimizer.zero_grad()\n",
    "    model_output = cls_pt.forward_logit(x)\n",
    "    loss = bcewl(model_output, y)\n",
    "    loss.backward()\n",
    "    optimizer.step()\n",
    "    if epoch % 1000 == 0:\n",
    "        print(loss.item())"
   ]
  },
  {
   "cell_type": "code",
   "execution_count": 10,
   "metadata": {},
   "outputs": [
    {
     "data": {
      "text/plain": [
       "tensor([[0.8829, 0.9432, 0.0820, 0.1117, 0.1079, 0.9001, 0.9282, 0.1967, 0.1213,\n",
       "         0.1252]], grad_fn=<SigmoidBackward0>)"
      ]
     },
     "execution_count": 10,
     "metadata": {},
     "output_type": "execute_result"
    }
   ],
   "source": [
    "cls_pt.forward(x[:1])"
   ]
  },
  {
   "cell_type": "code",
   "execution_count": null,
   "metadata": {},
   "outputs": [],
   "source": []
  }
 ],
 "metadata": {
  "kernelspec": {
   "display_name": ".venv",
   "language": "python",
   "name": "python3"
  },
  "language_info": {
   "codemirror_mode": {
    "name": "ipython",
    "version": 3
   },
   "file_extension": ".py",
   "mimetype": "text/x-python",
   "name": "python",
   "nbconvert_exporter": "python",
   "pygments_lexer": "ipython3",
   "version": "3.12.8"
  }
 },
 "nbformat": 4,
 "nbformat_minor": 2
}
