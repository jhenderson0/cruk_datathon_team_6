{
 "cells": [
  {
   "cell_type": "code",
   "execution_count": 1,
   "metadata": {},
   "outputs": [],
   "source": [
    "import numpy as np\n",
    "from sklearn.linear_model import LogisticRegression\n",
    "from sklearn.multioutput import MultiOutputClassifier"
   ]
  },
  {
   "cell_type": "code",
   "execution_count": 2,
   "metadata": {},
   "outputs": [],
   "source": [
    "input = np.random.randint(2, size=(1000, 5))\n",
    "output = np.concatenate((input, input), axis=1)\n",
    "noise = np.random.choice([0, 1], size=output.shape, p=[0.9, 0.1])\n",
    "output = output ^ noise"
   ]
  },
  {
   "cell_type": "code",
   "execution_count": 3,
   "metadata": {},
   "outputs": [],
   "source": [
    "cls = MultiOutputClassifier(LogisticRegression()).fit(input, output)"
   ]
  },
  {
   "cell_type": "code",
   "execution_count": 4,
   "metadata": {},
   "outputs": [
    {
     "data": {
      "text/plain": [
       "[array([[0.11059612, 0.88940388]]),\n",
       " array([[0.91306318, 0.08693682]]),\n",
       " array([[0.89453918, 0.10546082]]),\n",
       " array([[0.84381452, 0.15618548]]),\n",
       " array([[0.89553827, 0.10446173]]),\n",
       " array([[0.13735844, 0.86264156]]),\n",
       " array([[0.88461529, 0.11538471]]),\n",
       " array([[0.91125561, 0.08874439]]),\n",
       " array([[0.90594328, 0.09405672]]),\n",
       " array([[0.87758163, 0.12241837]])]"
      ]
     },
     "execution_count": 4,
     "metadata": {},
     "output_type": "execute_result"
    }
   ],
   "source": [
    "cls.predict_proba(input[:1])"
   ]
  },
  {
   "cell_type": "code",
   "execution_count": 5,
   "metadata": {},
   "outputs": [
    {
     "data": {
      "text/plain": [
       "array([[1, 0, 0, 0, 0]])"
      ]
     },
     "execution_count": 5,
     "metadata": {},
     "output_type": "execute_result"
    }
   ],
   "source": [
    "input[:1]"
   ]
  }
 ],
 "metadata": {
  "kernelspec": {
   "display_name": ".venv",
   "language": "python",
   "name": "python3"
  },
  "language_info": {
   "codemirror_mode": {
    "name": "ipython",
    "version": 3
   },
   "file_extension": ".py",
   "mimetype": "text/x-python",
   "name": "python",
   "nbconvert_exporter": "python",
   "pygments_lexer": "ipython3",
   "version": "3.12.8"
  }
 },
 "nbformat": 4,
 "nbformat_minor": 2
}
