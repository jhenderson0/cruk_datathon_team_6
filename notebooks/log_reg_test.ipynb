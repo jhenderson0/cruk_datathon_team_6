{
 "cells": [
  {
   "cell_type": "code",
   "execution_count": 1,
   "metadata": {},
   "outputs": [],
   "source": [
    "import itertools\n",
    "from matplotlib import pyplot as plt\n",
    "import pandas as pd\n",
    "import torch\n",
    "from torch.nn import Module, Linear\n",
    "import torch.nn.functional as F\n",
    "from torch.optim import SGD\n",
    "from torch import special\n",
    "from tqdm import tqdm"
   ]
  },
  {
   "cell_type": "code",
   "execution_count": 2,
   "metadata": {},
   "outputs": [],
   "source": [
    "INPUT = torch.randint(2, size=(1000, 5), dtype=torch.float32)\n",
    "\n",
    "most_likely_output = torch.concatenate((INPUT, INPUT), dim=1)\n",
    "noise = torch.rand(most_likely_output.shape)\n",
    "OUTPUT = most_likely_output.logical_xor(noise < 0.1).to(torch.float32)\n",
    "\n",
    "INPUT_MARGINAL = torch.tensor([0.5] * 5)\n",
    "OUTPUT_MARGINAL = torch.rand(10)"
   ]
  },
  {
   "cell_type": "code",
   "execution_count": 3,
   "metadata": {},
   "outputs": [
    {
     "name": "stdout",
     "output_type": "stream",
     "text": [
      "tensor([[0., 0., 1., 1., 0.],\n",
      "        [1., 0., 0., 0., 1.],\n",
      "        [0., 0., 1., 1., 0.],\n",
      "        ...,\n",
      "        [0., 1., 0., 0., 0.],\n",
      "        [0., 0., 0., 0., 1.],\n",
      "        [0., 0., 1., 1., 1.]])\n",
      "tensor([[0., 0., 1.,  ..., 1., 1., 1.],\n",
      "        [1., 0., 0.,  ..., 0., 0., 0.],\n",
      "        [0., 0., 1.,  ..., 1., 1., 0.],\n",
      "        ...,\n",
      "        [1., 1., 1.,  ..., 0., 0., 0.],\n",
      "        [0., 0., 0.,  ..., 0., 0., 1.],\n",
      "        [0., 0., 0.,  ..., 1., 1., 1.]])\n",
      "tensor([0.7580, 0.4738, 0.6755, 0.4689, 0.0932, 0.3981, 0.2668, 0.3859, 0.4292,\n",
      "        0.1544])\n"
     ]
    }
   ],
   "source": [
    "print(INPUT)\n",
    "print(OUTPUT)\n",
    "print(OUTPUT_MARGINAL)"
   ]
  },
  {
   "cell_type": "code",
   "execution_count": 4,
   "metadata": {},
   "outputs": [],
   "source": [
    "ALL_POSSIBLE_INPUTS = [torch.tensor(x, dtype=torch.float32) for x in itertools.product([0, 1], repeat=5)]"
   ]
  },
  {
   "cell_type": "code",
   "execution_count": 5,
   "metadata": {},
   "outputs": [],
   "source": [
    "class Dumpy(Module):\n",
    "    def __init__(self, in_features: int, out_features: int):\n",
    "        super(Dumpy, self).__init__()\n",
    "        self.linear = Linear(in_features=in_features, out_features=out_features, bias=True)\n",
    "    \n",
    "    def forward(self, x):\n",
    "        x = self.linear(x)\n",
    "        return special.expit(x)\n",
    "\n",
    "    def forward_logit(self, x):\n",
    "        return self.linear(x)"
   ]
  },
  {
   "cell_type": "code",
   "execution_count": 6,
   "metadata": {},
   "outputs": [],
   "source": [
    "def train(lmb, epochs=5000):\n",
    "    model = Dumpy(5, 10)\n",
    "    optimizer = SGD(model.parameters(), lr=1)\n",
    "\n",
    "    for _ in tqdm(range(epochs)):\n",
    "        optimizer.zero_grad()\n",
    "\n",
    "        model_output = model.forward_logit(INPUT)\n",
    "        model_marginal = torch.mean(torch.stack([model.forward(input.unsqueeze(0)) for input in ALL_POSSIBLE_INPUTS], dim=0), dim=0)\n",
    "        conditional_loss = F.binary_cross_entropy_with_logits(model_output, OUTPUT)\n",
    "        marginal_loss = F.binary_cross_entropy(model_marginal, OUTPUT_MARGINAL.unsqueeze(0))\n",
    "        loss = conditional_loss + lmb * marginal_loss\n",
    "\n",
    "        loss.backward()\n",
    "        optimizer.step()\n",
    "\n",
    "    return conditional_loss.item(), marginal_loss.item()"
   ]
  },
  {
   "cell_type": "code",
   "execution_count": 7,
   "metadata": {},
   "outputs": [
    {
     "name": "stderr",
     "output_type": "stream",
     "text": [
      "100%|██████████| 5000/5000 [00:03<00:00, 1262.28it/s]\n",
      "100%|██████████| 5000/5000 [00:04<00:00, 1244.09it/s]\n",
      "100%|██████████| 5000/5000 [00:03<00:00, 1279.30it/s]\n",
      "100%|██████████| 5000/5000 [00:03<00:00, 1266.82it/s]\n",
      "100%|██████████| 5000/5000 [00:03<00:00, 1266.24it/s]\n"
     ]
    }
   ],
   "source": [
    "lmbs = torch.logspace(-2, 2, 5)\n",
    "results = {lmb.item(): train(lmb) for lmb in lmbs}"
   ]
  },
  {
   "cell_type": "code",
   "execution_count": 8,
   "metadata": {},
   "outputs": [],
   "source": [
    "results_table = pd.DataFrame(results)"
   ]
  },
  {
   "cell_type": "code",
   "execution_count": 9,
   "metadata": {},
   "outputs": [
    {
     "data": {
      "image/png": "[encoded data removed]",
      "text/plain": [
       "<Figure size 640x480 with 1 Axes>"
      ]
     },
     "metadata": {},
     "output_type": "display_data"
    }
   ],
   "source": [
    "plt.figure()\n",
    "plt.scatter(results_table.iloc[0], results_table.iloc[1])\n",
    "# plt.xscale('log')\n",
    "# plt.yscale('log')\n",
    "plt.show()"
   ]
  },
  {
   "cell_type": "code",
   "execution_count": null,
   "metadata": {},
   "outputs": [],
   "source": []
  }
 ],
 "metadata": {
  "kernelspec": {
   "display_name": ".venv",
   "language": "python",
   "name": "python3"
  },
  "language_info": {
   "codemirror_mode": {
    "name": "ipython",
    "version": 3
   },
   "file_extension": ".py",
   "mimetype": "text/x-python",
   "name": "python",
   "nbconvert_exporter": "python",
   "pygments_lexer": "ipython3",
   "version": "3.12.8"
  }
 },
 "nbformat": 4,
 "nbformat_minor": 2
}
